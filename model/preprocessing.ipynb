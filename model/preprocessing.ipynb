{
 "cells": [
  {
   "cell_type": "markdown",
   "metadata": {},
   "source": [
    "# Data preprocessing "
   ]
  },
  {
   "cell_type": "code",
   "execution_count": 1,
   "metadata": {},
   "outputs": [],
   "source": [
    "import pandas as pd\n",
    "import re"
   ]
  },
  {
   "cell_type": "code",
   "execution_count": 2,
   "metadata": {},
   "outputs": [],
   "source": [
    "import nltk"
   ]
  },
  {
   "cell_type": "code",
   "execution_count": 3,
   "metadata": {},
   "outputs": [],
   "source": [
    "import os"
   ]
  },
  {
   "cell_type": "markdown",
   "metadata": {},
   "source": [
    "### 1. Load data into pandas dataframe"
   ]
  },
  {
   "cell_type": "code",
   "execution_count": 3,
   "metadata": {},
   "outputs": [],
   "source": [
    "df = pd.DataFrame()"
   ]
  },
  {
   "cell_type": "code",
   "execution_count": null,
   "metadata": {},
   "outputs": [],
   "source": [
    "for file in os.listdir('../data/train/pos'):\n",
    "    with open(f'../data/train/pos/{file}', 'r') as input_text:\n",
    "        df = df.append([{'comment': input_text.read(), 'sentiment': 1}])\n",
    "        \n",
    "for file in os.listdir('../data/train/neg'):\n",
    "    with open(f'../data/train/neg/{file}', 'r') as input_text:\n",
    "        df = df.append([{'comment': input_text.read(), 'sentiment': 0}])"
   ]
  },
  {
   "cell_type": "code",
   "execution_count": 31,
   "metadata": {},
   "outputs": [],
   "source": [
    "df = df.reset_index()"
   ]
  },
  {
   "cell_type": "code",
   "execution_count": 33,
   "metadata": {},
   "outputs": [],
   "source": [
    "df = df.drop(columns=['index'])"
   ]
  },
  {
   "cell_type": "code",
   "execution_count": 34,
   "metadata": {},
   "outputs": [],
   "source": [
    "# persist\n",
    "df.to_csv('../data/train/comments.csv')"
   ]
  },
  {
   "cell_type": "code",
   "execution_count": 35,
   "metadata": {},
   "outputs": [
    {
     "name": "stdout",
     "output_type": "stream",
     "text": [
      "<class 'pandas.core.frame.DataFrame'>\n",
      "RangeIndex: 25000 entries, 0 to 24999\n",
      "Data columns (total 2 columns):\n",
      "comment      25000 non-null object\n",
      "sentiment    25000 non-null int64\n",
      "dtypes: int64(1), object(1)\n",
      "memory usage: 390.8+ KB\n"
     ]
    }
   ],
   "source": [
    "df.info()"
   ]
  },
  {
   "cell_type": "code",
   "execution_count": 37,
   "metadata": {},
   "outputs": [
    {
     "data": {
      "text/html": [
       "<div>\n",
       "<style scoped>\n",
       "    .dataframe tbody tr th:only-of-type {\n",
       "        vertical-align: middle;\n",
       "    }\n",
       "\n",
       "    .dataframe tbody tr th {\n",
       "        vertical-align: top;\n",
       "    }\n",
       "\n",
       "    .dataframe thead th {\n",
       "        text-align: right;\n",
       "    }\n",
       "</style>\n",
       "<table border=\"1\" class=\"dataframe\">\n",
       "  <thead>\n",
       "    <tr style=\"text-align: right;\">\n",
       "      <th></th>\n",
       "      <th>comment</th>\n",
       "      <th>sentiment</th>\n",
       "    </tr>\n",
       "  </thead>\n",
       "  <tbody>\n",
       "    <tr>\n",
       "      <th>0</th>\n",
       "      <td>For a movie that gets no respect there sure ar...</td>\n",
       "      <td>1</td>\n",
       "    </tr>\n",
       "    <tr>\n",
       "      <th>1</th>\n",
       "      <td>Bizarre horror movie filled with famous faces ...</td>\n",
       "      <td>1</td>\n",
       "    </tr>\n",
       "    <tr>\n",
       "      <th>2</th>\n",
       "      <td>A solid, if unremarkable film. Matthau, as Ein...</td>\n",
       "      <td>1</td>\n",
       "    </tr>\n",
       "    <tr>\n",
       "      <th>3</th>\n",
       "      <td>It's a strange feeling to sit alone in a theat...</td>\n",
       "      <td>1</td>\n",
       "    </tr>\n",
       "    <tr>\n",
       "      <th>4</th>\n",
       "      <td>You probably all already know this by now, but...</td>\n",
       "      <td>1</td>\n",
       "    </tr>\n",
       "    <tr>\n",
       "      <th>5</th>\n",
       "      <td>I saw the movie with two grown children. Altho...</td>\n",
       "      <td>1</td>\n",
       "    </tr>\n",
       "    <tr>\n",
       "      <th>6</th>\n",
       "      <td>You're using the IMDb.&lt;br /&gt;&lt;br /&gt;You've given...</td>\n",
       "      <td>1</td>\n",
       "    </tr>\n",
       "    <tr>\n",
       "      <th>7</th>\n",
       "      <td>This was a good film with a powerful message o...</td>\n",
       "      <td>1</td>\n",
       "    </tr>\n",
       "    <tr>\n",
       "      <th>8</th>\n",
       "      <td>Made after QUARTET was, TRIO continued the qua...</td>\n",
       "      <td>1</td>\n",
       "    </tr>\n",
       "    <tr>\n",
       "      <th>9</th>\n",
       "      <td>For a mature man, to admit that he shed a tear...</td>\n",
       "      <td>1</td>\n",
       "    </tr>\n",
       "  </tbody>\n",
       "</table>\n",
       "</div>"
      ],
      "text/plain": [
       "                                             comment  sentiment\n",
       "0  For a movie that gets no respect there sure ar...          1\n",
       "1  Bizarre horror movie filled with famous faces ...          1\n",
       "2  A solid, if unremarkable film. Matthau, as Ein...          1\n",
       "3  It's a strange feeling to sit alone in a theat...          1\n",
       "4  You probably all already know this by now, but...          1\n",
       "5  I saw the movie with two grown children. Altho...          1\n",
       "6  You're using the IMDb.<br /><br />You've given...          1\n",
       "7  This was a good film with a powerful message o...          1\n",
       "8  Made after QUARTET was, TRIO continued the qua...          1\n",
       "9  For a mature man, to admit that he shed a tear...          1"
      ]
     },
     "execution_count": 37,
     "metadata": {},
     "output_type": "execute_result"
    }
   ],
   "source": [
    "df.head(n=10)"
   ]
  },
  {
   "cell_type": "markdown",
   "metadata": {},
   "source": [
    "### 2. NLP \n",
    "\n",
    "This chapter performs all text pre-processing steps, which result in (creating vocabulary as well as ) training embedding vectors. \n",
    "\n",
    "We will apply embedding on level of documents (comments) - since we want to categorize whole comments into positive / negative sentiments. \n",
    "\n",
    "Later we will thing about adding POS taggs / create sentence embeddding instead of whole documents embeddings...\n",
    "\n",
    "Tokenization (remove non-alphanum chars), lowercase, ...\n"
   ]
  },
  {
   "cell_type": "code",
   "execution_count": 4,
   "metadata": {},
   "outputs": [],
   "source": [
    "df = pd.read_csv('../data/train/comments.csv', index_col=0)"
   ]
  },
  {
   "cell_type": "code",
   "execution_count": 14,
   "metadata": {},
   "outputs": [
    {
     "data": {
      "text/html": [
       "<div>\n",
       "<style scoped>\n",
       "    .dataframe tbody tr th:only-of-type {\n",
       "        vertical-align: middle;\n",
       "    }\n",
       "\n",
       "    .dataframe tbody tr th {\n",
       "        vertical-align: top;\n",
       "    }\n",
       "\n",
       "    .dataframe thead th {\n",
       "        text-align: right;\n",
       "    }\n",
       "</style>\n",
       "<table border=\"1\" class=\"dataframe\">\n",
       "  <thead>\n",
       "    <tr style=\"text-align: right;\">\n",
       "      <th></th>\n",
       "      <th>comment</th>\n",
       "      <th>sentiment</th>\n",
       "    </tr>\n",
       "  </thead>\n",
       "  <tbody>\n",
       "    <tr>\n",
       "      <th>0</th>\n",
       "      <td>For a movie that gets no respect there sure ar...</td>\n",
       "      <td>1</td>\n",
       "    </tr>\n",
       "    <tr>\n",
       "      <th>1</th>\n",
       "      <td>Bizarre horror movie filled with famous faces ...</td>\n",
       "      <td>1</td>\n",
       "    </tr>\n",
       "    <tr>\n",
       "      <th>2</th>\n",
       "      <td>A solid, if unremarkable film. Matthau, as Ein...</td>\n",
       "      <td>1</td>\n",
       "    </tr>\n",
       "    <tr>\n",
       "      <th>3</th>\n",
       "      <td>It's a strange feeling to sit alone in a theat...</td>\n",
       "      <td>1</td>\n",
       "    </tr>\n",
       "    <tr>\n",
       "      <th>4</th>\n",
       "      <td>You probably all already know this by now, but...</td>\n",
       "      <td>1</td>\n",
       "    </tr>\n",
       "  </tbody>\n",
       "</table>\n",
       "</div>"
      ],
      "text/plain": [
       "                                             comment  sentiment\n",
       "0  For a movie that gets no respect there sure ar...          1\n",
       "1  Bizarre horror movie filled with famous faces ...          1\n",
       "2  A solid, if unremarkable film. Matthau, as Ein...          1\n",
       "3  It's a strange feeling to sit alone in a theat...          1\n",
       "4  You probably all already know this by now, but...          1"
      ]
     },
     "execution_count": 14,
     "metadata": {},
     "output_type": "execute_result"
    }
   ],
   "source": [
    "df.head(n=5)"
   ]
  },
  {
   "cell_type": "markdown",
   "metadata": {},
   "source": [
    "Let's look into some comments to see what we need to clean in general"
   ]
  },
  {
   "cell_type": "code",
   "execution_count": 15,
   "metadata": {},
   "outputs": [
    {
     "data": {
      "text/plain": [
       "\"I am writing this after just seeing The Perfect Son at the 2002 Gay and Lesbian Mardi Gras Film Festival in Sydney, Australia.<br /><br />When their Father dies, two estranged brothers meet at the funeral and after discovering that one of the brothers is dying from AIDS, they enter on a heart warming journey of reconciliation. The two leads do a magnificent job of creating the gradual warmth and respect that builds up between them as the movie progresses. I do have one qualm about the movie though - whilst the brother who is dying acts sick, he doesn't look it. A person of 0 T4 cells would look quite ill - not even a make up job to make the actor look ill was employed. A small gripe, but one that makes it a bit less realistic. Despite that one small gripe, The Perfect Son is a wonderful movie and should you have the chance to see it- do. I'm hoping for a DVD release in the near future!\""
      ]
     },
     "execution_count": 15,
     "metadata": {},
     "output_type": "execute_result"
    }
   ],
   "source": [
    "df.comment.iloc[50]"
   ]
  },
  {
   "cell_type": "code",
   "execution_count": 16,
   "metadata": {},
   "outputs": [
    {
     "data": {
      "text/plain": [
       "'Easily one of the ten best movies of the 20th century. In Cold Blood is brilliant in the simplicity and realism of its storytelling, and absolutely riveting.<br /><br />Robert Blake walks away with the film. The story seems to be presented almost entirely from Perry\\'s viewpoint, despite Dick being the leader and planner of the pair. The viewer will invariable perceive Dick as being more unstable, immature, and generally feel like Perry would not have been pulled into this nightmare but for Dick and his need to be somebody and pull off a big score.<br /><br />Based on a true story with particular attention to accuracy, In Cold Blood depicts the story behind the brutal and senseless murder of a rural Kansas family one cold, windy night, because Dick has bought into an age-old rural myth about prosperous farmers having a safe full of cash in their home. As \"prosecutor\" (a character that isn\\'t given a name in the script), played by Will Geer, so astutely points out, their lives are bought for only $10 a head. Director Richard Brooks wisely chooses not to share with us the gruesome details of the murders until the end of the film, prior to this we only know it has happened and watch the lives of Dick and Perry slowly unravel as they attempt to escape not only being apprehended by law enforcement, but also Perry\\'s own ever-escalating sense of impending doom. He repeatedly makes remarks, \"No one ever gets away with a thing like that,\" and \"I can\\'t help thinking we left something behind that belongs to us.\" Dick is neither mature nor moral enough to feel any compelling sense of guilt over their crime, only irritation at Perry\\'s. Indeed, after they are caught, it is Dick who breaks first, and suddenly faints when finally confronted with irrefutable proof that places the two men at the scene of the crime. I felt somewhat sorry for Perry from the very beginning of the film, and more-so as events progressed, but I only loathed Dick.<br /><br />The genius of the film is the engaging manner in which the story is played. We do not for a moment think we are watching actors portray characters, but that we are watching the actual participants and events as they occurred. The story is unrelenting, taunt, the run time slightly in excess of two hours feels more like just a few minutes.<br /><br />For those of you who are interested in such things, I noticed a couple of the \"Goofs\" listed here on the IMDb page for In Cold Blood are incorrect or exaggerated. Such as the \"reversed\" process shot, at the beginning of the film, as Dick and Perry are driving across the bridge into Kansas. To begin with, this isn\\'t even a process shot, the camera is actually positioned in the backseat and the image you see beyond the windshield of the car is real. A large cargo truck located to the left front of Dick\\'s Pontiac creates the optical illusion that they are going backward because it is traveling at a greater rate of speed, but closer examination will reveal that they are indeed going forward and it is an actual shot filmed from a moving vehicle. <br /><br />As I previously stated, this is one of the ten best works of 20th century cinema, not recommended for the very young due to some course language and implied and inferred violence (no actual in your face gore as a modern film would resort to), but a thoroughly excellent film.'"
      ]
     },
     "execution_count": 16,
     "metadata": {},
     "output_type": "execute_result"
    }
   ],
   "source": [
    "df.comment.iloc[150]"
   ]
  },
  {
   "cell_type": "code",
   "execution_count": 21,
   "metadata": {},
   "outputs": [
    {
     "data": {
      "text/plain": [
       "'Despite an overall pleasing plot and expensive production one wonders how a director can make so many clumsy cultural mistakes. Where were the Japanese wardrobe and cultural consultants? Not on the payroll apparently. <br /><br />A Japanese friend of mine actually laughed out loud at some of the cultural absurdities she watched unfold before her eyes. In a later conversation she said, \"Imagine a Finnish director making a movie in Fnnish about the American Civil War using blond Swedish actors as union Army and Frenchmen as the Confederates. Worse imagine dressing the Scarlet O\\'Hara female lead in a period hoop skirt missing the hoop and sporting a 1950\\'s hairdo. Maybe some people in Finland might not realize that the hoop skirt was \"missing the hoop\" or recognize the bizarre Jane Mansfield hair, but in Atlanta they would not believe their eyes or ears....and be laughing in the aisles...excellent story and photography be damned.<br /><br />So...watching Memoirs of a Geisha was painful for anyone familiar with Japanese cultural nuances, actual geisha or Japanese dress, and that was the topic of the movie! Hollywood is amazing in its myopic view of film making. They frequently get the big money things right while letting the details that really polish a films refinement embarrassingly wrong. I thought \"The Last Samurai\" was the crowning achievement of how bad an otherwise good film on Japan could be. Memoirs of a Geisha is embarrassingly better and worse at the same time.'"
      ]
     },
     "execution_count": 21,
     "metadata": {},
     "output_type": "execute_result"
    }
   ],
   "source": [
    "df.comment.iloc[15000]"
   ]
  },
  {
   "cell_type": "markdown",
   "metadata": {},
   "source": [
    "We definitely have some html-like tags to remove (replace with space).\n",
    "We can also see that apostrophs are escaped (\\\\'). \n",
    "Also, we probably will want to replace .... with space as well."
   ]
  },
  {
   "cell_type": "code",
   "execution_count": 5,
   "metadata": {},
   "outputs": [],
   "source": [
    "df['comment'] = df.comment.apply(lambda x: re.sub(r'<.*?>', ' ', x))"
   ]
  },
  {
   "cell_type": "markdown",
   "metadata": {},
   "source": [
    "We will not work with other than alpha chars. \n",
    "Also, we will try to convert n't parts to not first."
   ]
  },
  {
   "cell_type": "code",
   "execution_count": 6,
   "metadata": {},
   "outputs": [],
   "source": [
    "# can't is special case\n",
    "df['comment'] = df.comment.apply(lambda x: re.sub(r'can\\'t', 'can not', x))"
   ]
  },
  {
   "cell_type": "code",
   "execution_count": 7,
   "metadata": {},
   "outputs": [],
   "source": [
    "# and the rest of negatives\n",
    "df['comment'] = df.comment.apply(lambda x: re.sub(r'n\\'t', ' not', x))"
   ]
  },
  {
   "cell_type": "code",
   "execution_count": 8,
   "metadata": {},
   "outputs": [],
   "source": [
    "# now we want alpha tokens only to work with\n",
    "df['comment'] = df.comment.apply(lambda x: re.sub(r'[^A-Za-z ]+', '', x))"
   ]
  },
  {
   "cell_type": "code",
   "execution_count": 9,
   "metadata": {},
   "outputs": [],
   "source": [
    "# and we want to lowercase everything\n",
    "df['comment'] = df.comment.apply(lambda x: x.lower())"
   ]
  },
  {
   "cell_type": "code",
   "execution_count": 45,
   "metadata": {},
   "outputs": [
    {
     "data": {
      "text/plain": [
       "'eight academy nominations its beyond belief i can only think it was a very bad year  even by hollywood standards with huston as director and jack nicholson and kathleen turner as leads i probably would have swallowed the bait and watched this anyway but the oscar nominations really sold it to me and i feel distinctly cheated as a result  so its a black comedy is it can anyone tell me where the humour is in prizzis honor its certainly tasteless the shooting in the head of a policemans wife is but another supposedly comic interlude in this intended farce about mafia life but with the exception of a joke about your favourite mexican cigars which i imagine is an old joke for americans who have been officially forbidden from buying anything cuban for the last  years i failed to spot anything of a comic nature  and i did try there is a lot of mafia clich but clich does not constitute humour in my book  is it a romantic comedy of sorts never the characters and their relationships are so completely incredible and shallow that they are on a par with ben afleck and jennifer lopez in gigli  is it a cleverly devised parody about the mafia not in a million years the plot is just pointlessly absurd rather than comically absurd and it usually just has the feel of a really bad and cheap mafia movie it feels more like a homage than a parody  with onedimensional characters and little in the way of humour written for them the actors are left doing dodgy accents and pulling faces well it is not enough even when the face is being pulled by that master of the comic facial expression jack nicholson repleat with puffed up top lip  now is that meant to be a parody of brandos padded jowls in the godfather oh who cares all i know is it is not funny  throw in some slow plodding direction this film drags on for  hours some hopelessly daft and clichd dialogue such as you remember the camora well were far bigger well track you down wherever you go and clichd mannerisms and youll be reaching for that fast forward button before you can say capiche prizzis honor is far from being hustons masterpiece and is rather a very poor last work its definitely one work in the great directors canon that should be given a concrete overcoat and tossed into the hudson river'"
      ]
     },
     "execution_count": 45,
     "metadata": {},
     "output_type": "execute_result"
    }
   ],
   "source": [
    "df['comment'][24998]"
   ]
  },
  {
   "cell_type": "code",
   "execution_count": 10,
   "metadata": {},
   "outputs": [],
   "source": [
    "# squeeze multiple white-spaces into one\n",
    "df['comment'] = df.comment.apply(lambda x: re.sub(' +', ' ', x))"
   ]
  },
  {
   "cell_type": "code",
   "execution_count": 48,
   "metadata": {},
   "outputs": [
    {
     "data": {
      "text/plain": [
       "'eight academy nominations its beyond belief i can only think it was a very bad year even by hollywood standards with huston as director and jack nicholson and kathleen turner as leads i probably would have swallowed the bait and watched this anyway but the oscar nominations really sold it to me and i feel distinctly cheated as a result so its a black comedy is it can anyone tell me where the humour is in prizzis honor its certainly tasteless the shooting in the head of a policemans wife is but another supposedly comic interlude in this intended farce about mafia life but with the exception of a joke about your favourite mexican cigars which i imagine is an old joke for americans who have been officially forbidden from buying anything cuban for the last years i failed to spot anything of a comic nature and i did try there is a lot of mafia clich but clich does not constitute humour in my book is it a romantic comedy of sorts never the characters and their relationships are so completely incredible and shallow that they are on a par with ben afleck and jennifer lopez in gigli is it a cleverly devised parody about the mafia not in a million years the plot is just pointlessly absurd rather than comically absurd and it usually just has the feel of a really bad and cheap mafia movie it feels more like a homage than a parody with onedimensional characters and little in the way of humour written for them the actors are left doing dodgy accents and pulling faces well it is not enough even when the face is being pulled by that master of the comic facial expression jack nicholson repleat with puffed up top lip now is that meant to be a parody of brandos padded jowls in the godfather oh who cares all i know is it is not funny throw in some slow plodding direction this film drags on for hours some hopelessly daft and clichd dialogue such as you remember the camora well were far bigger well track you down wherever you go and clichd mannerisms and youll be reaching for that fast forward button before you can say capiche prizzis honor is far from being hustons masterpiece and is rather a very poor last work its definitely one work in the great directors canon that should be given a concrete overcoat and tossed into the hudson river'"
      ]
     },
     "execution_count": 48,
     "metadata": {},
     "output_type": "execute_result"
    }
   ],
   "source": [
    "df['comment'][24998]"
   ]
  },
  {
   "cell_type": "markdown",
   "metadata": {},
   "source": [
    "Now we need to remove stopwords. We will remove language (english) based stopwords, since we haven't constructed list of domain (movies) related stopwords yet. \n",
    "\n",
    "We get the stopwords list from nltk library."
   ]
  },
  {
   "cell_type": "markdown",
   "metadata": {},
   "source": [
    "##### version 2.0 - we decided not to remove stopwords, since they might carry important info as well. \n",
    "\n",
    "However, we are leaving the code below here (commented), because it was tried in first iteration of our project."
   ]
  },
  {
   "cell_type": "code",
   "execution_count": 56,
   "metadata": {},
   "outputs": [],
   "source": [
    "# stopwords = nltk.corpus.stopwords.words('english')"
   ]
  },
  {
   "cell_type": "code",
   "execution_count": 58,
   "metadata": {},
   "outputs": [
    {
     "data": {
      "text/plain": [
       "['i',\n",
       " 'me',\n",
       " 'my',\n",
       " 'myself',\n",
       " 'we',\n",
       " 'our',\n",
       " 'ours',\n",
       " 'ourselves',\n",
       " 'you',\n",
       " \"you're\",\n",
       " \"you've\",\n",
       " \"you'll\",\n",
       " \"you'd\",\n",
       " 'your',\n",
       " 'yours',\n",
       " 'yourself',\n",
       " 'yourselves',\n",
       " 'he',\n",
       " 'him',\n",
       " 'his',\n",
       " 'himself',\n",
       " 'she',\n",
       " \"she's\",\n",
       " 'her',\n",
       " 'hers',\n",
       " 'herself',\n",
       " 'it',\n",
       " \"it's\",\n",
       " 'its',\n",
       " 'itself',\n",
       " 'they',\n",
       " 'them',\n",
       " 'their',\n",
       " 'theirs',\n",
       " 'themselves',\n",
       " 'what',\n",
       " 'which',\n",
       " 'who',\n",
       " 'whom',\n",
       " 'this',\n",
       " 'that',\n",
       " \"that'll\",\n",
       " 'these',\n",
       " 'those',\n",
       " 'am',\n",
       " 'is',\n",
       " 'are',\n",
       " 'was',\n",
       " 'were',\n",
       " 'be',\n",
       " 'been',\n",
       " 'being',\n",
       " 'have',\n",
       " 'has',\n",
       " 'had',\n",
       " 'having',\n",
       " 'do',\n",
       " 'does',\n",
       " 'did',\n",
       " 'doing',\n",
       " 'a',\n",
       " 'an',\n",
       " 'the',\n",
       " 'and',\n",
       " 'but',\n",
       " 'if',\n",
       " 'or',\n",
       " 'because',\n",
       " 'as',\n",
       " 'until',\n",
       " 'while',\n",
       " 'of',\n",
       " 'at',\n",
       " 'by',\n",
       " 'for',\n",
       " 'with',\n",
       " 'about',\n",
       " 'against',\n",
       " 'between',\n",
       " 'into',\n",
       " 'through',\n",
       " 'during',\n",
       " 'before',\n",
       " 'after',\n",
       " 'above',\n",
       " 'below',\n",
       " 'to',\n",
       " 'from',\n",
       " 'up',\n",
       " 'down',\n",
       " 'in',\n",
       " 'out',\n",
       " 'on',\n",
       " 'off',\n",
       " 'over',\n",
       " 'under',\n",
       " 'again',\n",
       " 'further',\n",
       " 'then',\n",
       " 'once',\n",
       " 'here',\n",
       " 'there',\n",
       " 'when',\n",
       " 'where',\n",
       " 'why',\n",
       " 'how',\n",
       " 'all',\n",
       " 'any',\n",
       " 'both',\n",
       " 'each',\n",
       " 'few',\n",
       " 'more',\n",
       " 'most',\n",
       " 'other',\n",
       " 'some',\n",
       " 'such',\n",
       " 'no',\n",
       " 'nor',\n",
       " 'not',\n",
       " 'only',\n",
       " 'own',\n",
       " 'same',\n",
       " 'so',\n",
       " 'than',\n",
       " 'too',\n",
       " 'very',\n",
       " 's',\n",
       " 't',\n",
       " 'can',\n",
       " 'will',\n",
       " 'just',\n",
       " 'don',\n",
       " \"don't\",\n",
       " 'should',\n",
       " \"should've\",\n",
       " 'now',\n",
       " 'd',\n",
       " 'll',\n",
       " 'm',\n",
       " 'o',\n",
       " 're',\n",
       " 've',\n",
       " 'y',\n",
       " 'ain',\n",
       " 'aren',\n",
       " \"aren't\",\n",
       " 'couldn',\n",
       " \"couldn't\",\n",
       " 'didn',\n",
       " \"didn't\",\n",
       " 'doesn',\n",
       " \"doesn't\",\n",
       " 'hadn',\n",
       " \"hadn't\",\n",
       " 'hasn',\n",
       " \"hasn't\",\n",
       " 'haven',\n",
       " \"haven't\",\n",
       " 'isn',\n",
       " \"isn't\",\n",
       " 'ma',\n",
       " 'mightn',\n",
       " \"mightn't\",\n",
       " 'mustn',\n",
       " \"mustn't\",\n",
       " 'needn',\n",
       " \"needn't\",\n",
       " 'shan',\n",
       " \"shan't\",\n",
       " 'shouldn',\n",
       " \"shouldn't\",\n",
       " 'wasn',\n",
       " \"wasn't\",\n",
       " 'weren',\n",
       " \"weren't\",\n",
       " 'won',\n",
       " \"won't\",\n",
       " 'wouldn',\n",
       " \"wouldn't\"]"
      ]
     },
     "execution_count": 58,
     "metadata": {},
     "output_type": "execute_result"
    }
   ],
   "source": [
    "# stopwords"
   ]
  },
  {
   "cell_type": "markdown",
   "metadata": {},
   "source": [
    "We will not process negative form of verbs here, since we do not want to match them as stopwords \n",
    "(Later, we want to try to keep the 'not' in sentence). "
   ]
  },
  {
   "cell_type": "code",
   "execution_count": 62,
   "metadata": {},
   "outputs": [],
   "source": [
    "# process stopwords the same way we processed text\n",
    "# stopwords = list(map(lambda x: re.sub(r'[^A-Za-z ]+', '', x),  stopwords))"
   ]
  },
  {
   "cell_type": "code",
   "execution_count": 11,
   "metadata": {},
   "outputs": [],
   "source": [
    "# temporarily convert each comment into list of words (tokens) for matching\n",
    "df.comment = df.comment.apply(lambda x: x.split(' '))"
   ]
  },
  {
   "cell_type": "code",
   "execution_count": 65,
   "metadata": {},
   "outputs": [],
   "source": [
    "# and remove stopwords\n",
    "# df.comment = df.comment.apply(lambda x: list(filter(lambda word: word not in stopwords, x)))"
   ]
  },
  {
   "cell_type": "markdown",
   "metadata": {},
   "source": [
    "In first iteration of our model, we will remove language based stop words (for Eng. language). \n",
    "However, during next iteration we might identify topic related stop words and remove them as well. "
   ]
  },
  {
   "cell_type": "code",
   "execution_count": 66,
   "metadata": {
    "scrolled": true
   },
   "outputs": [
    {
     "data": {
      "text/plain": [
       "['easily',\n",
       " 'one',\n",
       " 'ten',\n",
       " 'best',\n",
       " 'movies',\n",
       " 'th',\n",
       " 'century',\n",
       " 'cold',\n",
       " 'blood',\n",
       " 'brilliant',\n",
       " 'simplicity',\n",
       " 'realism',\n",
       " 'storytelling',\n",
       " 'absolutely',\n",
       " 'riveting',\n",
       " 'robert',\n",
       " 'blake',\n",
       " 'walks',\n",
       " 'away',\n",
       " 'film',\n",
       " 'story',\n",
       " 'seems',\n",
       " 'presented',\n",
       " 'almost',\n",
       " 'entirely',\n",
       " 'perrys',\n",
       " 'viewpoint',\n",
       " 'despite',\n",
       " 'dick',\n",
       " 'leader',\n",
       " 'planner',\n",
       " 'pair',\n",
       " 'viewer',\n",
       " 'invariable',\n",
       " 'perceive',\n",
       " 'dick',\n",
       " 'unstable',\n",
       " 'immature',\n",
       " 'generally',\n",
       " 'feel',\n",
       " 'like',\n",
       " 'perry',\n",
       " 'would',\n",
       " 'pulled',\n",
       " 'nightmare',\n",
       " 'dick',\n",
       " 'need',\n",
       " 'somebody',\n",
       " 'pull',\n",
       " 'big',\n",
       " 'score',\n",
       " 'based',\n",
       " 'true',\n",
       " 'story',\n",
       " 'particular',\n",
       " 'attention',\n",
       " 'accuracy',\n",
       " 'cold',\n",
       " 'blood',\n",
       " 'depicts',\n",
       " 'story',\n",
       " 'behind',\n",
       " 'brutal',\n",
       " 'senseless',\n",
       " 'murder',\n",
       " 'rural',\n",
       " 'kansas',\n",
       " 'family',\n",
       " 'one',\n",
       " 'cold',\n",
       " 'windy',\n",
       " 'night',\n",
       " 'dick',\n",
       " 'bought',\n",
       " 'ageold',\n",
       " 'rural',\n",
       " 'myth',\n",
       " 'prosperous',\n",
       " 'farmers',\n",
       " 'safe',\n",
       " 'full',\n",
       " 'cash',\n",
       " 'home',\n",
       " 'prosecutor',\n",
       " 'character',\n",
       " 'given',\n",
       " 'name',\n",
       " 'script',\n",
       " 'played',\n",
       " 'geer',\n",
       " 'astutely',\n",
       " 'points',\n",
       " 'lives',\n",
       " 'bought',\n",
       " 'head',\n",
       " 'director',\n",
       " 'richard',\n",
       " 'brooks',\n",
       " 'wisely',\n",
       " 'chooses',\n",
       " 'share',\n",
       " 'us',\n",
       " 'gruesome',\n",
       " 'details',\n",
       " 'murders',\n",
       " 'end',\n",
       " 'film',\n",
       " 'prior',\n",
       " 'know',\n",
       " 'happened',\n",
       " 'watch',\n",
       " 'lives',\n",
       " 'dick',\n",
       " 'perry',\n",
       " 'slowly',\n",
       " 'unravel',\n",
       " 'attempt',\n",
       " 'escape',\n",
       " 'apprehended',\n",
       " 'law',\n",
       " 'enforcement',\n",
       " 'also',\n",
       " 'perrys',\n",
       " 'everescalating',\n",
       " 'sense',\n",
       " 'impending',\n",
       " 'doom',\n",
       " 'repeatedly',\n",
       " 'makes',\n",
       " 'remarks',\n",
       " 'one',\n",
       " 'ever',\n",
       " 'gets',\n",
       " 'away',\n",
       " 'thing',\n",
       " 'like',\n",
       " 'help',\n",
       " 'thinking',\n",
       " 'left',\n",
       " 'something',\n",
       " 'behind',\n",
       " 'belongs',\n",
       " 'us',\n",
       " 'dick',\n",
       " 'neither',\n",
       " 'mature',\n",
       " 'moral',\n",
       " 'enough',\n",
       " 'feel',\n",
       " 'compelling',\n",
       " 'sense',\n",
       " 'guilt',\n",
       " 'crime',\n",
       " 'irritation',\n",
       " 'perrys',\n",
       " 'indeed',\n",
       " 'caught',\n",
       " 'dick',\n",
       " 'breaks',\n",
       " 'first',\n",
       " 'suddenly',\n",
       " 'faints',\n",
       " 'finally',\n",
       " 'confronted',\n",
       " 'irrefutable',\n",
       " 'proof',\n",
       " 'places',\n",
       " 'two',\n",
       " 'men',\n",
       " 'scene',\n",
       " 'crime',\n",
       " 'felt',\n",
       " 'somewhat',\n",
       " 'sorry',\n",
       " 'perry',\n",
       " 'beginning',\n",
       " 'film',\n",
       " 'moreso',\n",
       " 'events',\n",
       " 'progressed',\n",
       " 'loathed',\n",
       " 'dick',\n",
       " 'genius',\n",
       " 'film',\n",
       " 'engaging',\n",
       " 'manner',\n",
       " 'story',\n",
       " 'played',\n",
       " 'moment',\n",
       " 'think',\n",
       " 'watching',\n",
       " 'actors',\n",
       " 'portray',\n",
       " 'characters',\n",
       " 'watching',\n",
       " 'actual',\n",
       " 'participants',\n",
       " 'events',\n",
       " 'occurred',\n",
       " 'story',\n",
       " 'unrelenting',\n",
       " 'taunt',\n",
       " 'run',\n",
       " 'time',\n",
       " 'slightly',\n",
       " 'excess',\n",
       " 'two',\n",
       " 'hours',\n",
       " 'feels',\n",
       " 'like',\n",
       " 'minutes',\n",
       " 'interested',\n",
       " 'things',\n",
       " 'noticed',\n",
       " 'couple',\n",
       " 'goofs',\n",
       " 'listed',\n",
       " 'imdb',\n",
       " 'page',\n",
       " 'cold',\n",
       " 'blood',\n",
       " 'incorrect',\n",
       " 'exaggerated',\n",
       " 'reversed',\n",
       " 'process',\n",
       " 'shot',\n",
       " 'beginning',\n",
       " 'film',\n",
       " 'dick',\n",
       " 'perry',\n",
       " 'driving',\n",
       " 'across',\n",
       " 'bridge',\n",
       " 'kansas',\n",
       " 'begin',\n",
       " 'even',\n",
       " 'process',\n",
       " 'shot',\n",
       " 'camera',\n",
       " 'actually',\n",
       " 'positioned',\n",
       " 'backseat',\n",
       " 'image',\n",
       " 'see',\n",
       " 'beyond',\n",
       " 'windshield',\n",
       " 'car',\n",
       " 'real',\n",
       " 'large',\n",
       " 'cargo',\n",
       " 'truck',\n",
       " 'located',\n",
       " 'left',\n",
       " 'front',\n",
       " 'dicks',\n",
       " 'pontiac',\n",
       " 'creates',\n",
       " 'optical',\n",
       " 'illusion',\n",
       " 'going',\n",
       " 'backward',\n",
       " 'traveling',\n",
       " 'greater',\n",
       " 'rate',\n",
       " 'speed',\n",
       " 'closer',\n",
       " 'examination',\n",
       " 'reveal',\n",
       " 'indeed',\n",
       " 'going',\n",
       " 'forward',\n",
       " 'actual',\n",
       " 'shot',\n",
       " 'filmed',\n",
       " 'moving',\n",
       " 'vehicle',\n",
       " 'previously',\n",
       " 'stated',\n",
       " 'one',\n",
       " 'ten',\n",
       " 'best',\n",
       " 'works',\n",
       " 'th',\n",
       " 'century',\n",
       " 'cinema',\n",
       " 'recommended',\n",
       " 'young',\n",
       " 'due',\n",
       " 'course',\n",
       " 'language',\n",
       " 'implied',\n",
       " 'inferred',\n",
       " 'violence',\n",
       " 'actual',\n",
       " 'face',\n",
       " 'gore',\n",
       " 'modern',\n",
       " 'film',\n",
       " 'would',\n",
       " 'resort',\n",
       " 'thoroughly',\n",
       " 'excellent',\n",
       " 'film']"
      ]
     },
     "execution_count": 66,
     "metadata": {},
     "output_type": "execute_result"
    }
   ],
   "source": [
    "df.comment[150]"
   ]
  },
  {
   "cell_type": "markdown",
   "metadata": {},
   "source": [
    "Now we have the last step of preprocessing in front of us - transforming words into the basic forms. \n",
    "We have two options - lemmatizers and stemmers. \n",
    "\n",
    "To use lemmatizer and achieve proper results, we would need to first perform POS tagging - assign each word its role in sentence. This can be tried in next iterations of our project. For now, we will go for stemming, which leaves us with the minimum base of word. One risk of stemming is that we are sometimes left with really minimum of what is left of the word, which makes the backward interpretation of text a little bit harder. However, it helps us to unite the same words now, so we will try it. "
   ]
  },
  {
   "cell_type": "code",
   "execution_count": 12,
   "metadata": {},
   "outputs": [],
   "source": [
    "# create stemmer and stem\n",
    "stemmer = nltk.stem.porter.PorterStemmer()\n",
    "df.comment = df.comment.apply(lambda x: list(map(stemmer.stem, x)))"
   ]
  },
  {
   "cell_type": "code",
   "execution_count": 13,
   "metadata": {},
   "outputs": [],
   "source": [
    "# lastly we do not want to work with words with less than 2 chars\n",
    "df.comment = df.comment.apply(lambda x: list(filter(lambda word: len(word) > 2, x)))"
   ]
  },
  {
   "cell_type": "code",
   "execution_count": 69,
   "metadata": {
    "scrolled": true
   },
   "outputs": [
    {
     "data": {
      "text/plain": [
       "['movi',\n",
       " 'get',\n",
       " 'respect',\n",
       " 'sure',\n",
       " 'lot',\n",
       " 'memor',\n",
       " 'quot',\n",
       " 'list',\n",
       " 'gem',\n",
       " 'imagin',\n",
       " 'movi',\n",
       " 'joe',\n",
       " 'piscopo',\n",
       " 'actual',\n",
       " 'funni',\n",
       " 'maureen',\n",
       " 'stapleton',\n",
       " 'scene',\n",
       " 'stealer',\n",
       " 'moroni',\n",
       " 'charact',\n",
       " 'absolut',\n",
       " 'scream',\n",
       " 'watch',\n",
       " 'alan',\n",
       " 'skipper',\n",
       " 'hale',\n",
       " 'polic',\n",
       " 'sgt']"
      ]
     },
     "execution_count": 69,
     "metadata": {},
     "output_type": "execute_result"
    }
   ],
   "source": [
    "df.comment[0]"
   ]
  },
  {
   "cell_type": "code",
   "execution_count": null,
   "metadata": {},
   "outputs": [],
   "source": []
  },
  {
   "cell_type": "code",
   "execution_count": 14,
   "metadata": {},
   "outputs": [],
   "source": [
    "# persist\n",
    "df.to_csv('../data/train/comments_processed_v2.csv')"
   ]
  },
  {
   "cell_type": "code",
   "execution_count": 15,
   "metadata": {},
   "outputs": [],
   "source": [
    "del df"
   ]
  },
  {
   "cell_type": "markdown",
   "metadata": {},
   "source": [
    "## Test dataset\n",
    "We also need to apply the same operations to our test data set:\n",
    "(this could have been a pipeline or at least a parametrizable function instead of code duplication. Maybe in next iterations we will refactor). :)"
   ]
  },
  {
   "cell_type": "code",
   "execution_count": 74,
   "metadata": {},
   "outputs": [],
   "source": [
    "df = pd.DataFrame()\n",
    "for file in os.listdir('../data/test/pos'):\n",
    "    with open(f'../data/test/pos/{file}', 'r') as input_text:\n",
    "        df = df.append([{'comment': input_text.read(), 'sentiment': 1}])\n",
    "        \n",
    "for file in os.listdir('../data/test/neg'):\n",
    "    with open(f'../data/test/neg/{file}', 'r') as input_text:\n",
    "        df = df.append([{'comment': input_text.read(), 'sentiment': 0}])"
   ]
  },
  {
   "cell_type": "code",
   "execution_count": 75,
   "metadata": {},
   "outputs": [],
   "source": [
    "df = df.reset_index()\n",
    "df = df.drop(columns=['index'])\n",
    "df.to_csv('../data/test/comments.csv')"
   ]
  },
  {
   "cell_type": "code",
   "execution_count": 17,
   "metadata": {},
   "outputs": [],
   "source": [
    "df = pd.read_csv('../data/test/comments.csv', index_col=0)"
   ]
  },
  {
   "cell_type": "code",
   "execution_count": 18,
   "metadata": {},
   "outputs": [
    {
     "data": {
      "text/html": [
       "<div>\n",
       "<style scoped>\n",
       "    .dataframe tbody tr th:only-of-type {\n",
       "        vertical-align: middle;\n",
       "    }\n",
       "\n",
       "    .dataframe tbody tr th {\n",
       "        vertical-align: top;\n",
       "    }\n",
       "\n",
       "    .dataframe thead th {\n",
       "        text-align: right;\n",
       "    }\n",
       "</style>\n",
       "<table border=\"1\" class=\"dataframe\">\n",
       "  <thead>\n",
       "    <tr style=\"text-align: right;\">\n",
       "      <th></th>\n",
       "      <th>comment</th>\n",
       "      <th>sentiment</th>\n",
       "    </tr>\n",
       "  </thead>\n",
       "  <tbody>\n",
       "    <tr>\n",
       "      <th>0</th>\n",
       "      <td>Based on an actual story, John Boorman shows t...</td>\n",
       "      <td>1</td>\n",
       "    </tr>\n",
       "    <tr>\n",
       "      <th>1</th>\n",
       "      <td>This is a gem. As a Film Four production - the...</td>\n",
       "      <td>1</td>\n",
       "    </tr>\n",
       "    <tr>\n",
       "      <th>2</th>\n",
       "      <td>I really like this show. It has drama, romance...</td>\n",
       "      <td>1</td>\n",
       "    </tr>\n",
       "    <tr>\n",
       "      <th>3</th>\n",
       "      <td>This is the best 3-D experience Disney has at ...</td>\n",
       "      <td>1</td>\n",
       "    </tr>\n",
       "    <tr>\n",
       "      <th>4</th>\n",
       "      <td>Of the Korean movies I've seen, only three had...</td>\n",
       "      <td>1</td>\n",
       "    </tr>\n",
       "    <tr>\n",
       "      <th>5</th>\n",
       "      <td>this movie is funny funny funny my favorite qu...</td>\n",
       "      <td>1</td>\n",
       "    </tr>\n",
       "    <tr>\n",
       "      <th>6</th>\n",
       "      <td>I'm just starting to explore the so far wonder...</td>\n",
       "      <td>1</td>\n",
       "    </tr>\n",
       "    <tr>\n",
       "      <th>7</th>\n",
       "      <td>There is no need for me to repeat the synopsis...</td>\n",
       "      <td>1</td>\n",
       "    </tr>\n",
       "    <tr>\n",
       "      <th>8</th>\n",
       "      <td>I got this movie with my BBC \"Jane Austen Coll...</td>\n",
       "      <td>1</td>\n",
       "    </tr>\n",
       "    <tr>\n",
       "      <th>9</th>\n",
       "      <td>This was a great movie, I would compare it to ...</td>\n",
       "      <td>1</td>\n",
       "    </tr>\n",
       "  </tbody>\n",
       "</table>\n",
       "</div>"
      ],
      "text/plain": [
       "                                             comment  sentiment\n",
       "0  Based on an actual story, John Boorman shows t...          1\n",
       "1  This is a gem. As a Film Four production - the...          1\n",
       "2  I really like this show. It has drama, romance...          1\n",
       "3  This is the best 3-D experience Disney has at ...          1\n",
       "4  Of the Korean movies I've seen, only three had...          1\n",
       "5  this movie is funny funny funny my favorite qu...          1\n",
       "6  I'm just starting to explore the so far wonder...          1\n",
       "7  There is no need for me to repeat the synopsis...          1\n",
       "8  I got this movie with my BBC \"Jane Austen Coll...          1\n",
       "9  This was a great movie, I would compare it to ...          1"
      ]
     },
     "execution_count": 18,
     "metadata": {},
     "output_type": "execute_result"
    }
   ],
   "source": [
    "df.head(n=10)"
   ]
  },
  {
   "cell_type": "code",
   "execution_count": 19,
   "metadata": {},
   "outputs": [],
   "source": [
    "df['comment'] = df.comment.apply(lambda x: re.sub(r'<.*?>', ' ', x))\n",
    "df['comment'] = df.comment.apply(lambda x: re.sub(r'can\\'t', 'can not', x))\n",
    "df['comment'] = df.comment.apply(lambda x: re.sub(r'n\\'t', ' not', x))\n",
    "df['comment'] = df.comment.apply(lambda x: re.sub(r'[^A-Za-z ]+', '', x))\n",
    "df['comment'] = df.comment.apply(lambda x: x.lower())\n",
    "df['comment'] = df.comment.apply(lambda x: re.sub(' +', ' ', x))\n"
   ]
  },
  {
   "cell_type": "code",
   "execution_count": null,
   "metadata": {},
   "outputs": [],
   "source": [
    "df.comment = df.comment.apply(lambda x: x.split(' '))\n",
    "# df.comment = df.comment.apply(lambda x: list(filter(lambda word: word not in stopwords, x)))\n",
    "df.comment = df.comment.apply(lambda x: list(map(stemmer.stem, x)))\n",
    "df.comment = df.comment.apply(lambda x: list(filter(lambda word: len(word) > 2, x)))"
   ]
  },
  {
   "cell_type": "code",
   "execution_count": null,
   "metadata": {},
   "outputs": [],
   "source": [
    "df.to_csv('../data/test/comments_processed_v2.csv')"
   ]
  },
  {
   "cell_type": "code",
   "execution_count": null,
   "metadata": {},
   "outputs": [],
   "source": [
    "del df"
   ]
  },
  {
   "cell_type": "code",
   "execution_count": null,
   "metadata": {},
   "outputs": [],
   "source": []
  }
 ],
 "metadata": {
  "kernelspec": {
   "display_name": "Python 3",
   "language": "python",
   "name": "python3"
  },
  "language_info": {
   "codemirror_mode": {
    "name": "ipython",
    "version": 3
   },
   "file_extension": ".py",
   "mimetype": "text/x-python",
   "name": "python",
   "nbconvert_exporter": "python",
   "pygments_lexer": "ipython3",
   "version": "3.6.8"
  }
 },
 "nbformat": 4,
 "nbformat_minor": 2
}
