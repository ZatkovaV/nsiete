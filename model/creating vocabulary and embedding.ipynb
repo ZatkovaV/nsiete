{
 "cells": [
  {
   "cell_type": "markdown",
   "metadata": {},
   "source": [
    "# Vocabulary and embedding"
   ]
  },
  {
   "cell_type": "code",
   "execution_count": 1,
   "metadata": {},
   "outputs": [],
   "source": [
    "import pandas as pd\n",
    "import numpy as np"
   ]
  },
  {
   "cell_type": "code",
   "execution_count": 2,
   "metadata": {},
   "outputs": [],
   "source": [
    "from ast import literal_eval"
   ]
  },
  {
   "cell_type": "markdown",
   "metadata": {},
   "source": [
    "Now that we have text pre-processed, we can create the vocabulary and embedding.\n",
    "\n",
    "There are many different options, which embedding to use - for example doc2vec, glove, fastext, .. for the current first iteration of our project, we are going to go with Facebook's fastext. "
   ]
  },
  {
   "cell_type": "code",
   "execution_count": 3,
   "metadata": {},
   "outputs": [],
   "source": [
    "# load data\n",
    "# df = pd.read_csv('../data/train/comments_processed.csv', index_col=0)\n",
    "# df_test = pd.read_csv('../data/test/comments_processed.csv', index_col=0)"
   ]
  },
  {
   "cell_type": "code",
   "execution_count": 3,
   "metadata": {},
   "outputs": [],
   "source": [
    "df = pd.read_csv('../data/train/comments_processed_v2.csv', index_col=0)\n",
    "df_test = pd.read_csv('../data/test/comments_processed_v2.csv', index_col=0)"
   ]
  },
  {
   "cell_type": "code",
   "execution_count": 4,
   "metadata": {},
   "outputs": [],
   "source": [
    "df.comment = df.comment.apply(literal_eval)\n",
    "df_test.comment = df_test.comment.apply(literal_eval)"
   ]
  },
  {
   "cell_type": "code",
   "execution_count": 6,
   "metadata": {},
   "outputs": [
    {
     "data": {
      "text/html": [
       "<div>\n",
       "<style scoped>\n",
       "    .dataframe tbody tr th:only-of-type {\n",
       "        vertical-align: middle;\n",
       "    }\n",
       "\n",
       "    .dataframe tbody tr th {\n",
       "        vertical-align: top;\n",
       "    }\n",
       "\n",
       "    .dataframe thead th {\n",
       "        text-align: right;\n",
       "    }\n",
       "</style>\n",
       "<table border=\"1\" class=\"dataframe\">\n",
       "  <thead>\n",
       "    <tr style=\"text-align: right;\">\n",
       "      <th></th>\n",
       "      <th>comment</th>\n",
       "      <th>sentiment</th>\n",
       "    </tr>\n",
       "  </thead>\n",
       "  <tbody>\n",
       "    <tr>\n",
       "      <th>0</th>\n",
       "      <td>[for, movi, that, get, respect, there, sure, a...</td>\n",
       "      <td>1</td>\n",
       "    </tr>\n",
       "    <tr>\n",
       "      <th>1</th>\n",
       "      <td>[bizarr, horror, movi, fill, with, famou, face...</td>\n",
       "      <td>1</td>\n",
       "    </tr>\n",
       "    <tr>\n",
       "      <th>2</th>\n",
       "      <td>[solid, unremark, film, matthau, einstein, won...</td>\n",
       "      <td>1</td>\n",
       "    </tr>\n",
       "    <tr>\n",
       "      <th>3</th>\n",
       "      <td>[strang, feel, sit, alon, theater, occupi, par...</td>\n",
       "      <td>1</td>\n",
       "    </tr>\n",
       "    <tr>\n",
       "      <th>4</th>\n",
       "      <td>[you, probabl, all, alreadi, know, thi, now, b...</td>\n",
       "      <td>1</td>\n",
       "    </tr>\n",
       "  </tbody>\n",
       "</table>\n",
       "</div>"
      ],
      "text/plain": [
       "                                             comment  sentiment\n",
       "0  [for, movi, that, get, respect, there, sure, a...          1\n",
       "1  [bizarr, horror, movi, fill, with, famou, face...          1\n",
       "2  [solid, unremark, film, matthau, einstein, won...          1\n",
       "3  [strang, feel, sit, alon, theater, occupi, par...          1\n",
       "4  [you, probabl, all, alreadi, know, thi, now, b...          1"
      ]
     },
     "execution_count": 6,
     "metadata": {},
     "output_type": "execute_result"
    }
   ],
   "source": [
    "df.head(n=5)"
   ]
  },
  {
   "cell_type": "markdown",
   "metadata": {},
   "source": [
    "We will create the vocabulary by assigning every word its number. \n",
    "However, we will sort the words according to their \"priority\", which is simply number of word occurences. \n",
    "This is only being done for the purpose of potentially limiting the size of vocabulary (e.g. to 15000 most frequently used words). We will see, if it makes sense later.\n",
    "\n",
    "Also, another option is to use already built vocabulary along with already trained and prepared embeddings. \n",
    "This has an advantage of covering most of the words for english language. However, there might be slight disadvantage that the embedding is not domain specific - and people might communicate movie reviews a little bit differently than other texts. \n",
    "\n",
    "We can compare mulitple approaches later. "
   ]
  },
  {
   "cell_type": "code",
   "execution_count": 5,
   "metadata": {},
   "outputs": [],
   "source": [
    "# create vocabulary\n",
    "words = {}\n",
    "for idx, comment in df.comment.iteritems():\n",
    "    for word in comment:\n",
    "        if word in words.keys():\n",
    "            words[word] += 1\n",
    "        else:\n",
    "            words[word] = 1"
   ]
  },
  {
   "cell_type": "markdown",
   "metadata": {},
   "source": [
    "Order by occurences "
   ]
  },
  {
   "cell_type": "code",
   "execution_count": 6,
   "metadata": {},
   "outputs": [],
   "source": [
    "words = [(k, v) for k, v in words.items()]"
   ]
  },
  {
   "cell_type": "code",
   "execution_count": 7,
   "metadata": {},
   "outputs": [],
   "source": [
    "words = sorted(words, key=lambda x: x[1], reverse=True)"
   ]
  },
  {
   "cell_type": "code",
   "execution_count": 10,
   "metadata": {
    "scrolled": true
   },
   "outputs": [
    {
     "data": {
      "text/plain": [
       "[('the', 334779),\n",
       " ('and', 162257),\n",
       " ('thi', 75456),\n",
       " ('that', 73306),\n",
       " ('not', 63580),\n",
       " ('movi', 50595),\n",
       " ('film', 47239),\n",
       " ('for', 44022),\n",
       " ('with', 43951),\n",
       " ('but', 41765),\n",
       " ('have', 31024),\n",
       " ('are', 30243),\n",
       " ('you', 29637),\n",
       " ('one', 26912),\n",
       " ('all', 23387),\n",
       " ('like', 22185),\n",
       " ('who', 21099),\n",
       " ('they', 20965),\n",
       " ('from', 20439),\n",
       " ('there', 18591),\n",
       " ('her', 18401),\n",
       " ('just', 17638),\n",
       " ('about', 17322),\n",
       " ('out', 16561),\n",
       " ('what', 16082),\n",
       " ('some', 15686),\n",
       " ('time', 15542),\n",
       " ('good', 14924),\n",
       " ('can', 14569),\n",
       " ('make', 14546)]"
      ]
     },
     "execution_count": 10,
     "metadata": {},
     "output_type": "execute_result"
    }
   ],
   "source": [
    "words[:30]"
   ]
  },
  {
   "cell_type": "code",
   "execution_count": 11,
   "metadata": {
    "scrolled": true
   },
   "outputs": [
    {
     "data": {
      "text/plain": [
       "[('firsthalf', 1),\n",
       " ('drosselmei', 1),\n",
       " ('closedforweekend', 1),\n",
       " ('highsecur', 1),\n",
       " ('warveteran', 1),\n",
       " ('milla', 1),\n",
       " ('antithril', 1),\n",
       " ('descriptionwoman', 1),\n",
       " ('securityi', 1),\n",
       " ('realizationi', 1),\n",
       " ('quarterfin', 1),\n",
       " ('rakishli', 1),\n",
       " ('untempt', 1),\n",
       " ('crumley', 1),\n",
       " ('buic', 1),\n",
       " ('antiplot', 1),\n",
       " ('fictiondrama', 1),\n",
       " ('thereinaft', 1),\n",
       " ('lockup', 1),\n",
       " ('dresssuit', 1),\n",
       " ('overvot', 1),\n",
       " ('ontyp', 1),\n",
       " ('infantalis', 1),\n",
       " ('rou', 1),\n",
       " ('orientalist', 1),\n",
       " ('tooand', 1),\n",
       " ('repleat', 1),\n",
       " ('jowl', 1),\n",
       " ('camora', 1),\n",
       " ('capich', 1)]"
      ]
     },
     "execution_count": 11,
     "metadata": {},
     "output_type": "execute_result"
    }
   ],
   "source": [
    "words[-30:]"
   ]
  },
  {
   "cell_type": "code",
   "execution_count": 12,
   "metadata": {},
   "outputs": [
    {
     "data": {
      "text/plain": [
       "79771"
      ]
     },
     "execution_count": 12,
     "metadata": {},
     "output_type": "execute_result"
    }
   ],
   "source": [
    "len(words)"
   ]
  },
  {
   "cell_type": "markdown",
   "metadata": {},
   "source": [
    "As probably expected, we can see that for example occurence of word \"movi\" (stem from \"movie\") is almost the same as number of documents (even higher). So it goes for word film. I think these two words might be domain stopwords - frequently used and there with no added value to comments. \n",
    "\n",
    "What is interesting is that words \"good\" and \"like\" made it pretty high. However, they might have been used with not - so they alone (without context) are not helpful (this might be an example of why \"not\" should not be in the englighs stopwords for this problem. "
   ]
  },
  {
   "cell_type": "markdown",
   "metadata": {},
   "source": [
    "Another thing is that we surely have a lot of words, that occur once in all the comments. \n",
    "Our vocabulary is on the other hand quite large - almost 80 000. \n",
    "There comes the question, if it makes sense to leave every word in vocabulary - or if we want to use only words that occur for example at least 2-3 times (or more). \n",
    "\n",
    "Further analysis, like tf-idf computing, might help us understand the most meaningful words for our model, but for now, we will just skip words that occured a little times. "
   ]
  },
  {
   "cell_type": "code",
   "execution_count": 13,
   "metadata": {},
   "outputs": [
    {
     "data": {
      "text/plain": [
       "('aubrey', 12)"
      ]
     },
     "execution_count": 13,
     "metadata": {},
     "output_type": "execute_result"
    }
   ],
   "source": [
    "words[12500]"
   ]
  },
  {
   "cell_type": "code",
   "execution_count": 14,
   "metadata": {},
   "outputs": [
    {
     "data": {
      "text/plain": [
       "('inter', 9)"
      ]
     },
     "execution_count": 14,
     "metadata": {},
     "output_type": "execute_result"
    }
   ],
   "source": [
    "words[15001]"
   ]
  },
  {
   "cell_type": "code",
   "execution_count": 15,
   "metadata": {},
   "outputs": [
    {
     "data": {
      "text/plain": [
       "('phedon', 3)"
      ]
     },
     "execution_count": 15,
     "metadata": {},
     "output_type": "execute_result"
    }
   ],
   "source": [
    "words[25000]"
   ]
  },
  {
   "cell_type": "code",
   "execution_count": 16,
   "metadata": {},
   "outputs": [
    {
     "data": {
      "text/plain": [
       "('serrador', 2)"
      ]
     },
     "execution_count": 16,
     "metadata": {},
     "output_type": "execute_result"
    }
   ],
   "source": [
    "words[35000]"
   ]
  },
  {
   "cell_type": "markdown",
   "metadata": {},
   "source": [
    "Here we can also see that our vocab also consist of typos. \n",
    "After first most frequent 15000 words we can see that words occur no more than 9 times (from the whole set of 25000 movies). We can here try to limit our vocab to 15000 most ferquent words (with the risk od decreasing accuracy). \n",
    "\n",
    "We can also play with this parameter later - this is now done to simplyfy things a liitle and to speed up training as well. "
   ]
  },
  {
   "cell_type": "code",
   "execution_count": 8,
   "metadata": {},
   "outputs": [],
   "source": [
    "words = words[:15000]"
   ]
  },
  {
   "cell_type": "code",
   "execution_count": 9,
   "metadata": {},
   "outputs": [],
   "source": [
    "vocab = {}\n",
    "# assign words a number\n",
    "for idx, word in enumerate(words):\n",
    "    vocab[word[0]] = idx + 1"
   ]
  },
  {
   "cell_type": "code",
   "execution_count": 10,
   "metadata": {
    "scrolled": true
   },
   "outputs": [
    {
     "data": {
      "text/plain": [
       "[('the', 1),\n",
       " ('and', 2),\n",
       " ('thi', 3),\n",
       " ('that', 4),\n",
       " ('not', 5),\n",
       " ('movi', 6),\n",
       " ('film', 7),\n",
       " ('for', 8),\n",
       " ('with', 9),\n",
       " ('but', 10),\n",
       " ('have', 11),\n",
       " ('are', 12),\n",
       " ('you', 13),\n",
       " ('one', 14),\n",
       " ('all', 15),\n",
       " ('like', 16),\n",
       " ('who', 17),\n",
       " ('they', 18),\n",
       " ('from', 19),\n",
       " ('there', 20)]"
      ]
     },
     "execution_count": 10,
     "metadata": {},
     "output_type": "execute_result"
    }
   ],
   "source": [
    "[(k, v) for k, v in vocab.items()][:20]  # not the most efective way :) "
   ]
  },
  {
   "cell_type": "markdown",
   "metadata": {},
   "source": [
    "Now that we have our vocabulary constructed, we can replace words with their ids."
   ]
  },
  {
   "cell_type": "code",
   "execution_count": 11,
   "metadata": {},
   "outputs": [],
   "source": [
    "df['comment_ids'] = df.comment.apply(lambda comm: list(map(lambda x: vocab.get(x, None), comm)))"
   ]
  },
  {
   "cell_type": "markdown",
   "metadata": {},
   "source": [
    "Since we created the vocabulary ourselves and on train data set only, here can happen that test data set contains words that are new (not present in train data set). We will remove the words from comments as well. "
   ]
  },
  {
   "cell_type": "code",
   "execution_count": 12,
   "metadata": {},
   "outputs": [],
   "source": [
    "df_test['comment_ids'] = df_test.comment.apply(lambda comm: list(map(lambda x: vocab.get(x, None), comm)))"
   ]
  },
  {
   "cell_type": "code",
   "execution_count": 13,
   "metadata": {},
   "outputs": [],
   "source": [
    "df['comment_ids'] = df.comment_ids.apply(lambda comm: list(filter(lambda x: x is not None, comm)))\n",
    "df_test['comment_ids'] = df_test.comment_ids.apply(lambda comm: list(filter(lambda x: x is not None, comm)))"
   ]
  },
  {
   "cell_type": "code",
   "execution_count": 14,
   "metadata": {},
   "outputs": [
    {
     "data": {
      "text/html": [
       "<div>\n",
       "<style scoped>\n",
       "    .dataframe tbody tr th:only-of-type {\n",
       "        vertical-align: middle;\n",
       "    }\n",
       "\n",
       "    .dataframe tbody tr th {\n",
       "        vertical-align: top;\n",
       "    }\n",
       "\n",
       "    .dataframe thead th {\n",
       "        text-align: right;\n",
       "    }\n",
       "</style>\n",
       "<table border=\"1\" class=\"dataframe\">\n",
       "  <thead>\n",
       "    <tr style=\"text-align: right;\">\n",
       "      <th></th>\n",
       "      <th>comment</th>\n",
       "      <th>sentiment</th>\n",
       "      <th>comment_ids</th>\n",
       "    </tr>\n",
       "  </thead>\n",
       "  <tbody>\n",
       "    <tr>\n",
       "      <th>0</th>\n",
       "      <td>[base, actual, stori, john, boorman, show, the...</td>\n",
       "      <td>1</td>\n",
       "      <td>[404, 121, 40, 291, 9299, 54, 1, 844, 259, 866...</td>\n",
       "    </tr>\n",
       "    <tr>\n",
       "      <th>1</th>\n",
       "      <td>[thi, gem, film, four, product, the, anticip, ...</td>\n",
       "      <td>1</td>\n",
       "      <td>[3, 1229, 7, 698, 288, 1, 2434, 441, 830, 596,...</td>\n",
       "    </tr>\n",
       "    <tr>\n",
       "      <th>2</th>\n",
       "      <td>[realli, like, thi, show, drama, romanc, and, ...</td>\n",
       "      <td>1</td>\n",
       "      <td>[45, 16, 3, 54, 447, 797, 2, 171, 15, 929, 64,...</td>\n",
       "    </tr>\n",
       "  </tbody>\n",
       "</table>\n",
       "</div>"
      ],
      "text/plain": [
       "                                             comment  sentiment  \\\n",
       "0  [base, actual, stori, john, boorman, show, the...          1   \n",
       "1  [thi, gem, film, four, product, the, anticip, ...          1   \n",
       "2  [realli, like, thi, show, drama, romanc, and, ...          1   \n",
       "\n",
       "                                         comment_ids  \n",
       "0  [404, 121, 40, 291, 9299, 54, 1, 844, 259, 866...  \n",
       "1  [3, 1229, 7, 698, 288, 1, 2434, 441, 830, 596,...  \n",
       "2  [45, 16, 3, 54, 447, 797, 2, 171, 15, 929, 64,...  "
      ]
     },
     "execution_count": 14,
     "metadata": {},
     "output_type": "execute_result"
    }
   ],
   "source": [
    "df_test.head(n=3)"
   ]
  },
  {
   "cell_type": "code",
   "execution_count": 15,
   "metadata": {},
   "outputs": [
    {
     "data": {
      "text/html": [
       "<div>\n",
       "<style scoped>\n",
       "    .dataframe tbody tr th:only-of-type {\n",
       "        vertical-align: middle;\n",
       "    }\n",
       "\n",
       "    .dataframe tbody tr th {\n",
       "        vertical-align: top;\n",
       "    }\n",
       "\n",
       "    .dataframe thead th {\n",
       "        text-align: right;\n",
       "    }\n",
       "</style>\n",
       "<table border=\"1\" class=\"dataframe\">\n",
       "  <thead>\n",
       "    <tr style=\"text-align: right;\">\n",
       "      <th></th>\n",
       "      <th>comment</th>\n",
       "      <th>sentiment</th>\n",
       "      <th>comment_ids</th>\n",
       "    </tr>\n",
       "  </thead>\n",
       "  <tbody>\n",
       "    <tr>\n",
       "      <th>0</th>\n",
       "      <td>[for, movi, that, get, respect, there, sure, a...</td>\n",
       "      <td>1</td>\n",
       "      <td>[8, 6, 4, 33, 694, 20, 207, 12, 126, 831, 1649...</td>\n",
       "    </tr>\n",
       "    <tr>\n",
       "      <th>1</th>\n",
       "      <td>[bizarr, horror, movi, fill, with, famou, face...</td>\n",
       "      <td>1</td>\n",
       "      <td>[1049, 175, 6, 702, 9, 781, 300, 10, 2269, 684...</td>\n",
       "    </tr>\n",
       "    <tr>\n",
       "      <th>2</th>\n",
       "      <td>[solid, unremark, film, matthau, einstein, won...</td>\n",
       "      <td>1</td>\n",
       "      <td>[1081, 7097, 7, 2611, 4724, 166, 453, 118, 2, ...</td>\n",
       "    </tr>\n",
       "    <tr>\n",
       "      <th>3</th>\n",
       "      <td>[strang, feel, sit, alon, theater, occupi, par...</td>\n",
       "      <td>1</td>\n",
       "      <td>[551, 117, 500, 580, 581, 3875, 676, 2, 47, 13...</td>\n",
       "    </tr>\n",
       "    <tr>\n",
       "      <th>4</th>\n",
       "      <td>[you, probabl, all, alreadi, know, thi, now, b...</td>\n",
       "      <td>1</td>\n",
       "      <td>[13, 223, 15, 459, 84, 3, 130, 10, 1089, 243, ...</td>\n",
       "    </tr>\n",
       "    <tr>\n",
       "      <th>5</th>\n",
       "      <td>[saw, the, movi, with, two, grown, children, a...</td>\n",
       "      <td>1</td>\n",
       "      <td>[199, 1, 6, 9, 89, 2061, 430, 254, 5, 1005, 62...</td>\n",
       "    </tr>\n",
       "    <tr>\n",
       "      <th>6</th>\n",
       "      <td>[your, use, the, imdb, youv, given, some, heft...</td>\n",
       "      <td>1</td>\n",
       "      <td>[82, 120, 1, 887, 827, 357, 26, 10388, 1365, 2...</td>\n",
       "    </tr>\n",
       "    <tr>\n",
       "      <th>7</th>\n",
       "      <td>[thi, good, film, with, power, messag, love, a...</td>\n",
       "      <td>1</td>\n",
       "      <td>[3, 28, 7, 9, 347, 635, 70, 2, 2626, 70, 1, 15...</td>\n",
       "    </tr>\n",
       "    <tr>\n",
       "      <th>8</th>\n",
       "      <td>[made, after, quartet, trio, continu, the, qua...</td>\n",
       "      <td>1</td>\n",
       "      <td>[77, 83, 8771, 3224, 531, 1, 441, 1, 880, 7, 2...</td>\n",
       "    </tr>\n",
       "    <tr>\n",
       "      <th>9</th>\n",
       "      <td>[for, matur, man, admit, that, shed, tear, ove...</td>\n",
       "      <td>1</td>\n",
       "      <td>[8, 1885, 107, 805, 4, 2566, 1157, 109, 3, 7, ...</td>\n",
       "    </tr>\n",
       "  </tbody>\n",
       "</table>\n",
       "</div>"
      ],
      "text/plain": [
       "                                             comment  sentiment  \\\n",
       "0  [for, movi, that, get, respect, there, sure, a...          1   \n",
       "1  [bizarr, horror, movi, fill, with, famou, face...          1   \n",
       "2  [solid, unremark, film, matthau, einstein, won...          1   \n",
       "3  [strang, feel, sit, alon, theater, occupi, par...          1   \n",
       "4  [you, probabl, all, alreadi, know, thi, now, b...          1   \n",
       "5  [saw, the, movi, with, two, grown, children, a...          1   \n",
       "6  [your, use, the, imdb, youv, given, some, heft...          1   \n",
       "7  [thi, good, film, with, power, messag, love, a...          1   \n",
       "8  [made, after, quartet, trio, continu, the, qua...          1   \n",
       "9  [for, matur, man, admit, that, shed, tear, ove...          1   \n",
       "\n",
       "                                         comment_ids  \n",
       "0  [8, 6, 4, 33, 694, 20, 207, 12, 126, 831, 1649...  \n",
       "1  [1049, 175, 6, 702, 9, 781, 300, 10, 2269, 684...  \n",
       "2  [1081, 7097, 7, 2611, 4724, 166, 453, 118, 2, ...  \n",
       "3  [551, 117, 500, 580, 581, 3875, 676, 2, 47, 13...  \n",
       "4  [13, 223, 15, 459, 84, 3, 130, 10, 1089, 243, ...  \n",
       "5  [199, 1, 6, 9, 89, 2061, 430, 254, 5, 1005, 62...  \n",
       "6  [82, 120, 1, 887, 827, 357, 26, 10388, 1365, 2...  \n",
       "7  [3, 28, 7, 9, 347, 635, 70, 2, 2626, 70, 1, 15...  \n",
       "8  [77, 83, 8771, 3224, 531, 1, 441, 1, 880, 7, 2...  \n",
       "9  [8, 1885, 107, 805, 4, 2566, 1157, 109, 3, 7, ...  "
      ]
     },
     "execution_count": 15,
     "metadata": {},
     "output_type": "execute_result"
    }
   ],
   "source": [
    "df.head(n=10)"
   ]
  },
  {
   "cell_type": "markdown",
   "metadata": {},
   "source": [
    "This is the part where we will create and train our Fastext (or another) embedding, or just use already trained one (and comapre results then). \n",
    "Since this is only the first iteration on our project, we are ending here and letting our Neural network create and train the embedding - even if it does not capture the word relations. \n",
    "We can then compare, how using advanced embeddings helps us to achieve better results. \n",
    "\n",
    "##### Project v2 - training embedding"
   ]
  },
  {
   "cell_type": "code",
   "execution_count": 16,
   "metadata": {},
   "outputs": [],
   "source": [
    "import fasttext"
   ]
  },
  {
   "cell_type": "code",
   "execution_count": 18,
   "metadata": {},
   "outputs": [],
   "source": [
    "# dump text into text file\n",
    "df['comment_text'] = df.comment.apply(lambda x: ' '.join(x))"
   ]
  },
  {
   "cell_type": "code",
   "execution_count": 19,
   "metadata": {},
   "outputs": [],
   "source": [
    "comment_text = df.comment_text.values.tolist()"
   ]
  },
  {
   "cell_type": "code",
   "execution_count": 21,
   "metadata": {},
   "outputs": [],
   "source": [
    "with open('text_input.in', 'w') as write_file:\n",
    "    for text in comment_text:\n",
    "        write_file.write(f'{text}\\n')"
   ]
  },
  {
   "cell_type": "markdown",
   "metadata": {},
   "source": [
    "Fasttext embedding offers two types of representation - skipgram and cbow. We chose to train skipgram, since those models should be better at predicting context - and that's what we would like to try to get into our model as well. "
   ]
  },
  {
   "cell_type": "code",
   "execution_count": 22,
   "metadata": {},
   "outputs": [],
   "source": [
    "# train model\n",
    "emb_model = fasttext.train_unsupervised('text_input.in', model='skipgram')"
   ]
  },
  {
   "cell_type": "code",
   "execution_count": 23,
   "metadata": {},
   "outputs": [],
   "source": [
    "emb_model.save_model(\"fasttext_model.bin\")"
   ]
  },
  {
   "cell_type": "markdown",
   "metadata": {},
   "source": [
    "We also still need to make sure that our documents have are the same length. Let's do a quick analysis of lengths first:"
   ]
  },
  {
   "cell_type": "code",
   "execution_count": 16,
   "metadata": {},
   "outputs": [],
   "source": [
    "# compute comment lengths\n",
    "df['words_n'] = df.comment_ids.apply(len)"
   ]
  },
  {
   "cell_type": "code",
   "execution_count": 17,
   "metadata": {},
   "outputs": [
    {
     "data": {
      "text/plain": [
       "count    25000.000000\n",
       "mean       112.184480\n",
       "std         84.741327\n",
       "min          4.000000\n",
       "25%         60.000000\n",
       "50%         83.000000\n",
       "75%        137.000000\n",
       "max       1320.000000\n",
       "Name: words_n, dtype: float64"
      ]
     },
     "execution_count": 17,
     "metadata": {},
     "output_type": "execute_result"
    }
   ],
   "source": [
    "df.words_n.describe()"
   ]
  },
  {
   "cell_type": "code",
   "execution_count": 133,
   "metadata": {},
   "outputs": [
    {
     "data": {
      "text/plain": [
       "291.0"
      ]
     },
     "execution_count": 133,
     "metadata": {},
     "output_type": "execute_result"
    }
   ],
   "source": [
    "df.words_n.quantile(0.95)"
   ]
  },
  {
   "cell_type": "code",
   "execution_count": 134,
   "metadata": {},
   "outputs": [
    {
     "data": {
      "text/plain": [
       "223.0"
      ]
     },
     "execution_count": 134,
     "metadata": {},
     "output_type": "execute_result"
    }
   ],
   "source": [
    "df.words_n.quantile(0.90)"
   ]
  },
  {
   "cell_type": "code",
   "execution_count": 18,
   "metadata": {},
   "outputs": [
    {
     "data": {
      "text/plain": [
       "183.0"
      ]
     },
     "execution_count": 18,
     "metadata": {},
     "output_type": "execute_result"
    }
   ],
   "source": [
    "df.words_n.quantile(0.85)"
   ]
  },
  {
   "cell_type": "markdown",
   "metadata": {},
   "source": [
    "Only a smaller part of our data set (slightly more than 10\\%) contains more than 200 words. \n",
    "Since we think that 100 words could be enough to detect sentiment, we will set that as maximum length of our comment and cut the words in comments after. However, this is a parameter to play with later. "
   ]
  },
  {
   "cell_type": "code",
   "execution_count": 19,
   "metadata": {},
   "outputs": [],
   "source": [
    "# set 100 as maximum comment length\n",
    "df['x'] = df.comment_ids.apply(lambda x: x[:100])\n",
    "df_test['x'] = df_test.comment_ids.apply(lambda x: x[:100])"
   ]
  },
  {
   "cell_type": "code",
   "execution_count": 20,
   "metadata": {},
   "outputs": [],
   "source": [
    "# pad shorter comments with 0\n",
    "df['x'] = df.x.apply(lambda x: np.pad(x, (0, 100 - len(x)), mode='constant'))\n",
    "df_test['x'] = df_test.x.apply(lambda x: np.pad(x, (0, 100 - len(x)), mode='constant'))"
   ]
  },
  {
   "cell_type": "markdown",
   "metadata": {},
   "source": [
    "And we are ready to go for now."
   ]
  },
  {
   "cell_type": "code",
   "execution_count": 21,
   "metadata": {},
   "outputs": [
    {
     "data": {
      "text/plain": [
       "15000"
      ]
     },
     "execution_count": 21,
     "metadata": {},
     "output_type": "execute_result"
    }
   ],
   "source": [
    "# length of vocabulary for further processing\n",
    "len(vocab)"
   ]
  },
  {
   "cell_type": "code",
   "execution_count": null,
   "metadata": {},
   "outputs": [],
   "source": []
  },
  {
   "cell_type": "code",
   "execution_count": 22,
   "metadata": {},
   "outputs": [],
   "source": [
    "# persist - to pickle now\n",
    "df.to_pickle('../data/train/comments_embed.pkl')\n",
    "df_test.to_pickle('../data/test/comments_embed.pkl')"
   ]
  },
  {
   "cell_type": "code",
   "execution_count": 23,
   "metadata": {},
   "outputs": [],
   "source": [
    "del df\n",
    "del df_test"
   ]
  },
  {
   "cell_type": "code",
   "execution_count": null,
   "metadata": {},
   "outputs": [],
   "source": []
  }
 ],
 "metadata": {
  "kernelspec": {
   "display_name": "Python 3",
   "language": "python",
   "name": "python3"
  },
  "language_info": {
   "codemirror_mode": {
    "name": "ipython",
    "version": 3
   },
   "file_extension": ".py",
   "mimetype": "text/x-python",
   "name": "python",
   "nbconvert_exporter": "python",
   "pygments_lexer": "ipython3",
   "version": "3.6.8"
  }
 },
 "nbformat": 4,
 "nbformat_minor": 2
}
