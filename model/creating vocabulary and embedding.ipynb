{
 "cells": [
  {
   "cell_type": "markdown",
   "metadata": {},
   "source": [
    "# Vocabulary and embedding"
   ]
  },
  {
   "cell_type": "code",
   "execution_count": 1,
   "metadata": {},
   "outputs": [],
   "source": [
    "import pandas as pd\n",
    "import numpy as np"
   ]
  },
  {
   "cell_type": "code",
   "execution_count": 2,
   "metadata": {},
   "outputs": [],
   "source": [
    "from ast import literal_eval"
   ]
  },
  {
   "cell_type": "markdown",
   "metadata": {},
   "source": [
    "Now that we have text pre-processed, we can create the vocabulary and embedding.\n",
    "\n",
    "There are many different options, which embedding to use - for example doc2vec, glove, fastext, .. for the current first iteration of our project, we are going to go with Facebook's fastext. "
   ]
  },
  {
   "cell_type": "code",
   "execution_count": 3,
   "metadata": {},
   "outputs": [],
   "source": [
    "# load data\n",
    "df = pd.read_csv('../data/train/comments_processed.csv', index_col=0)\n",
    "df_test = pd.read_csv('../data/test/comments_processed.csv', index_col=0)"
   ]
  },
  {
   "cell_type": "code",
   "execution_count": 4,
   "metadata": {},
   "outputs": [],
   "source": [
    "df.comment = df.comment.apply(literal_eval)\n",
    "df_test.comment = df_test.comment.apply(literal_eval)"
   ]
  },
  {
   "cell_type": "code",
   "execution_count": 86,
   "metadata": {},
   "outputs": [
    {
     "data": {
      "text/html": [
       "<div>\n",
       "<style scoped>\n",
       "    .dataframe tbody tr th:only-of-type {\n",
       "        vertical-align: middle;\n",
       "    }\n",
       "\n",
       "    .dataframe tbody tr th {\n",
       "        vertical-align: top;\n",
       "    }\n",
       "\n",
       "    .dataframe thead th {\n",
       "        text-align: right;\n",
       "    }\n",
       "</style>\n",
       "<table border=\"1\" class=\"dataframe\">\n",
       "  <thead>\n",
       "    <tr style=\"text-align: right;\">\n",
       "      <th></th>\n",
       "      <th>comment</th>\n",
       "      <th>sentiment</th>\n",
       "    </tr>\n",
       "  </thead>\n",
       "  <tbody>\n",
       "    <tr>\n",
       "      <th>0</th>\n",
       "      <td>[movi, get, respect, sure, lot, memor, quot, l...</td>\n",
       "      <td>1</td>\n",
       "    </tr>\n",
       "    <tr>\n",
       "      <th>1</th>\n",
       "      <td>[bizarr, horror, movi, fill, famou, face, stol...</td>\n",
       "      <td>1</td>\n",
       "    </tr>\n",
       "    <tr>\n",
       "      <th>2</th>\n",
       "      <td>[solid, unremark, film, matthau, einstein, won...</td>\n",
       "      <td>1</td>\n",
       "    </tr>\n",
       "    <tr>\n",
       "      <th>3</th>\n",
       "      <td>[strang, feel, sit, alon, theater, occupi, par...</td>\n",
       "      <td>1</td>\n",
       "    </tr>\n",
       "    <tr>\n",
       "      <th>4</th>\n",
       "      <td>[probabl, alreadi, know, addit, episod, never,...</td>\n",
       "      <td>1</td>\n",
       "    </tr>\n",
       "  </tbody>\n",
       "</table>\n",
       "</div>"
      ],
      "text/plain": [
       "                                             comment  sentiment\n",
       "0  [movi, get, respect, sure, lot, memor, quot, l...          1\n",
       "1  [bizarr, horror, movi, fill, famou, face, stol...          1\n",
       "2  [solid, unremark, film, matthau, einstein, won...          1\n",
       "3  [strang, feel, sit, alon, theater, occupi, par...          1\n",
       "4  [probabl, alreadi, know, addit, episod, never,...          1"
      ]
     },
     "execution_count": 86,
     "metadata": {},
     "output_type": "execute_result"
    }
   ],
   "source": [
    "df.head(n=5)"
   ]
  },
  {
   "cell_type": "markdown",
   "metadata": {},
   "source": [
    "We will create the vocabulary by assigning every word its number. \n",
    "However, we will sort the words according to their \"priority\", which is simply number of word occurences. \n",
    "This is only being done for the purpose of potentially limiting the size of vocabulary (e.g. to 15000 most frequently used words). We will see, if it makes sense later.\n",
    "\n",
    "Also, another option is to use already built vocabulary along with already trained and prepared embeddings. \n",
    "This has an advantage of covering most of the words for english language. However, there might be slight disadvantage that the embedding is not domain specific - and people might communicate movie reviews a little bit differently than other texts. \n",
    "\n",
    "We can compare mulitple approaches later. "
   ]
  },
  {
   "cell_type": "code",
   "execution_count": 5,
   "metadata": {},
   "outputs": [],
   "source": [
    "# create vocabulary\n",
    "words = {}\n",
    "for idx, comment in df.comment.iteritems():\n",
    "    for word in comment:\n",
    "        if word in words.keys():\n",
    "            words[word] += 1\n",
    "        else:\n",
    "            words[word] = 1"
   ]
  },
  {
   "cell_type": "markdown",
   "metadata": {},
   "source": [
    "Order by occurences "
   ]
  },
  {
   "cell_type": "code",
   "execution_count": 6,
   "metadata": {},
   "outputs": [],
   "source": [
    "words = [(k, v) for k, v in words.items()]"
   ]
  },
  {
   "cell_type": "code",
   "execution_count": 7,
   "metadata": {},
   "outputs": [],
   "source": [
    "words = sorted(words, key=lambda x: x[1], reverse=True)"
   ]
  },
  {
   "cell_type": "code",
   "execution_count": 8,
   "metadata": {
    "scrolled": true
   },
   "outputs": [
    {
     "data": {
      "text/plain": [
       "[('movi', 50595),\n",
       " ('film', 47239),\n",
       " ('one', 26912),\n",
       " ('like', 22185),\n",
       " ('time', 15542),\n",
       " ('good', 14924),\n",
       " ('make', 14546),\n",
       " ('get', 14065),\n",
       " ('charact', 13993),\n",
       " ('see', 13896),\n",
       " ('watch', 13796),\n",
       " ('would', 13188),\n",
       " ('stori', 12895),\n",
       " ('even', 12764),\n",
       " ('realli', 11694),\n",
       " ('scene', 10429),\n",
       " ('well', 9951),\n",
       " ('show', 9750),\n",
       " ('look', 9730),\n",
       " ('much', 9667),\n",
       " ('end', 9445),\n",
       " ('peopl', 9314),\n",
       " ('could', 9216),\n",
       " ('bad', 9108),\n",
       " ('also', 9097),\n",
       " ('great', 9064),\n",
       " ('first', 8888),\n",
       " ('think', 8847),\n",
       " ('love', 8794),\n",
       " ('way', 8673)]"
      ]
     },
     "execution_count": 8,
     "metadata": {},
     "output_type": "execute_result"
    }
   ],
   "source": [
    "words[:30]"
   ]
  },
  {
   "cell_type": "code",
   "execution_count": 9,
   "metadata": {
    "scrolled": true
   },
   "outputs": [
    {
     "data": {
      "text/plain": [
       "[('firsthalf', 1),\n",
       " ('drosselmei', 1),\n",
       " ('closedforweekend', 1),\n",
       " ('highsecur', 1),\n",
       " ('warveteran', 1),\n",
       " ('milla', 1),\n",
       " ('antithril', 1),\n",
       " ('descriptionwoman', 1),\n",
       " ('securityi', 1),\n",
       " ('realizationi', 1),\n",
       " ('quarterfin', 1),\n",
       " ('rakishli', 1),\n",
       " ('untempt', 1),\n",
       " ('crumley', 1),\n",
       " ('buic', 1),\n",
       " ('antiplot', 1),\n",
       " ('fictiondrama', 1),\n",
       " ('thereinaft', 1),\n",
       " ('lockup', 1),\n",
       " ('dresssuit', 1),\n",
       " ('overvot', 1),\n",
       " ('ontyp', 1),\n",
       " ('infantalis', 1),\n",
       " ('rou', 1),\n",
       " ('orientalist', 1),\n",
       " ('tooand', 1),\n",
       " ('repleat', 1),\n",
       " ('jowl', 1),\n",
       " ('camora', 1),\n",
       " ('capich', 1)]"
      ]
     },
     "execution_count": 9,
     "metadata": {},
     "output_type": "execute_result"
    }
   ],
   "source": [
    "words[-30:]"
   ]
  },
  {
   "cell_type": "code",
   "execution_count": 8,
   "metadata": {},
   "outputs": [
    {
     "data": {
      "text/plain": [
       "79709"
      ]
     },
     "execution_count": 8,
     "metadata": {},
     "output_type": "execute_result"
    }
   ],
   "source": [
    "len(words)"
   ]
  },
  {
   "cell_type": "markdown",
   "metadata": {},
   "source": [
    "As probably expected, we can see that for example occurence of word \"movi\" (stem from \"movie\") is almost the same as number of documents (even higher). So it goes for word film. I think these two words might be domain stopwords - frequently used and there with no added value to comments. \n",
    "\n",
    "What is interesting is that words \"good\" and \"like\" made it pretty high. However, they might have been used with not - so they alone (without context) are not helpful (this might be an example of why \"not\" should not be in the englighs stopwords for this problem. "
   ]
  },
  {
   "cell_type": "markdown",
   "metadata": {},
   "source": [
    "Another thing is that we surely have a lot of words, that occur once in all the comments. \n",
    "Our vocabulary is on the other hand quite large - almost 80 000. \n",
    "There comes the question, if it makes sense to leave every word in vocabulary - or if we want to use only words that occur for example at least 2-3 times (or more). \n",
    "\n",
    "Further analysis, like tf-idf computing, might help us understand the most meaningful words for our model, but for now, we will just skip words that occured a little times. "
   ]
  },
  {
   "cell_type": "code",
   "execution_count": 9,
   "metadata": {},
   "outputs": [
    {
     "data": {
      "text/plain": [
       "('overdu', 12)"
      ]
     },
     "execution_count": 9,
     "metadata": {},
     "output_type": "execute_result"
    }
   ],
   "source": [
    "words[12500]"
   ]
  },
  {
   "cell_type": "code",
   "execution_count": 120,
   "metadata": {},
   "outputs": [
    {
     "data": {
      "text/plain": [
       "('pinter', 9)"
      ]
     },
     "execution_count": 120,
     "metadata": {},
     "output_type": "execute_result"
    }
   ],
   "source": [
    "words[15001]"
   ]
  },
  {
   "cell_type": "code",
   "execution_count": 117,
   "metadata": {},
   "outputs": [
    {
     "data": {
      "text/plain": [
       "('preordain', 3)"
      ]
     },
     "execution_count": 117,
     "metadata": {},
     "output_type": "execute_result"
    }
   ],
   "source": [
    "words[25000]"
   ]
  },
  {
   "cell_type": "code",
   "execution_count": 116,
   "metadata": {},
   "outputs": [
    {
     "data": {
      "text/plain": [
       "('apparentlyonli', 2)"
      ]
     },
     "execution_count": 116,
     "metadata": {},
     "output_type": "execute_result"
    }
   ],
   "source": [
    "words[35000]"
   ]
  },
  {
   "cell_type": "markdown",
   "metadata": {},
   "source": [
    "Here we can also see that our vocab also consist of typos. \n",
    "After first most frequent 15000 words we can see that words occur no more than 9 times (from the whole set of 25000 movies). We can here try to limit our vocab to 15000 most ferquent words (with the risk od decreasing accuracy). \n",
    "\n",
    "We can also play with this parameter later - this is now done to simplyfy things a liitle and to speed up training as well. "
   ]
  },
  {
   "cell_type": "code",
   "execution_count": 11,
   "metadata": {},
   "outputs": [],
   "source": [
    "words = words[:15000]"
   ]
  },
  {
   "cell_type": "code",
   "execution_count": 12,
   "metadata": {},
   "outputs": [],
   "source": [
    "vocab = {}\n",
    "# assign words a number\n",
    "for idx, word in enumerate(words):\n",
    "    vocab[word[0]] = idx + 1"
   ]
  },
  {
   "cell_type": "code",
   "execution_count": 15,
   "metadata": {
    "scrolled": true
   },
   "outputs": [
    {
     "data": {
      "text/plain": [
       "[('movi', 1),\n",
       " ('film', 2),\n",
       " ('one', 3),\n",
       " ('like', 4),\n",
       " ('time', 5),\n",
       " ('good', 6),\n",
       " ('make', 7),\n",
       " ('get', 8),\n",
       " ('charact', 9),\n",
       " ('see', 10),\n",
       " ('watch', 11),\n",
       " ('would', 12),\n",
       " ('stori', 13),\n",
       " ('even', 14),\n",
       " ('realli', 15),\n",
       " ('scene', 16),\n",
       " ('well', 17),\n",
       " ('show', 18),\n",
       " ('look', 19),\n",
       " ('much', 20)]"
      ]
     },
     "execution_count": 15,
     "metadata": {},
     "output_type": "execute_result"
    }
   ],
   "source": [
    "[(k, v) for k, v in vocab.items()][:20]  # not the most efective way :) "
   ]
  },
  {
   "cell_type": "markdown",
   "metadata": {},
   "source": [
    "Now that we have our vocabulary constructed, we can replace words with their ids."
   ]
  },
  {
   "cell_type": "code",
   "execution_count": 12,
   "metadata": {},
   "outputs": [],
   "source": [
    "df['comment_ids'] = df.comment.apply(lambda comm: list(map(lambda x: vocab.get(x, None), comm)))"
   ]
  },
  {
   "cell_type": "markdown",
   "metadata": {},
   "source": [
    "Since we created the vocabulary ourselves and on train data set only, here can happen that test data set contains words that are new (not present in train data set). We will remove the words from comments as well. "
   ]
  },
  {
   "cell_type": "code",
   "execution_count": 13,
   "metadata": {},
   "outputs": [],
   "source": [
    "df_test['comment_ids'] = df_test.comment.apply(lambda comm: list(map(lambda x: vocab.get(x, None), comm)))"
   ]
  },
  {
   "cell_type": "code",
   "execution_count": 14,
   "metadata": {},
   "outputs": [],
   "source": [
    "df['comment_ids'] = df.comment_ids.apply(lambda comm: list(filter(lambda x: x is not None, comm)))\n",
    "df_test['comment_ids'] = df_test.comment_ids.apply(lambda comm: list(filter(lambda x: x is not None, comm)))"
   ]
  },
  {
   "cell_type": "code",
   "execution_count": 15,
   "metadata": {},
   "outputs": [
    {
     "data": {
      "text/html": [
       "<div>\n",
       "<style scoped>\n",
       "    .dataframe tbody tr th:only-of-type {\n",
       "        vertical-align: middle;\n",
       "    }\n",
       "\n",
       "    .dataframe tbody tr th {\n",
       "        vertical-align: top;\n",
       "    }\n",
       "\n",
       "    .dataframe thead th {\n",
       "        text-align: right;\n",
       "    }\n",
       "</style>\n",
       "<table border=\"1\" class=\"dataframe\">\n",
       "  <thead>\n",
       "    <tr style=\"text-align: right;\">\n",
       "      <th></th>\n",
       "      <th>comment</th>\n",
       "      <th>sentiment</th>\n",
       "      <th>comment_ids</th>\n",
       "    </tr>\n",
       "  </thead>\n",
       "  <tbody>\n",
       "    <tr>\n",
       "      <th>0</th>\n",
       "      <td>[base, actual, stori, john, boorman, show, str...</td>\n",
       "      <td>1</td>\n",
       "      <td>[332, 63, 13, 221, 9212, 18, 764, 190, 786, 54...</td>\n",
       "    </tr>\n",
       "    <tr>\n",
       "      <th>1</th>\n",
       "      <td>[gem, film, four, product, anticip, qualiti, i...</td>\n",
       "      <td>1</td>\n",
       "      <td>[1145, 2, 619, 218, 2348, 367, 750, 518, 150, ...</td>\n",
       "    </tr>\n",
       "    <tr>\n",
       "      <th>2</th>\n",
       "      <td>[realli, like, show, drama, romanc, comedi, ro...</td>\n",
       "      <td>1</td>\n",
       "      <td>[15, 4, 18, 373, 717, 106, 847, 3, 587, 344, 2...</td>\n",
       "    </tr>\n",
       "  </tbody>\n",
       "</table>\n",
       "</div>"
      ],
      "text/plain": [
       "                                             comment  sentiment  \\\n",
       "0  [base, actual, stori, john, boorman, show, str...          1   \n",
       "1  [gem, film, four, product, anticip, qualiti, i...          1   \n",
       "2  [realli, like, show, drama, romanc, comedi, ro...          1   \n",
       "\n",
       "                                         comment_ids  \n",
       "0  [332, 63, 13, 221, 9212, 18, 764, 190, 786, 54...  \n",
       "1  [1145, 2, 619, 218, 2348, 367, 750, 518, 150, ...  \n",
       "2  [15, 4, 18, 373, 717, 106, 847, 3, 587, 344, 2...  "
      ]
     },
     "execution_count": 15,
     "metadata": {},
     "output_type": "execute_result"
    }
   ],
   "source": [
    "df_test.head(n=3)"
   ]
  },
  {
   "cell_type": "code",
   "execution_count": 130,
   "metadata": {},
   "outputs": [
    {
     "data": {
      "text/html": [
       "<div>\n",
       "<style scoped>\n",
       "    .dataframe tbody tr th:only-of-type {\n",
       "        vertical-align: middle;\n",
       "    }\n",
       "\n",
       "    .dataframe tbody tr th {\n",
       "        vertical-align: top;\n",
       "    }\n",
       "\n",
       "    .dataframe thead th {\n",
       "        text-align: right;\n",
       "    }\n",
       "</style>\n",
       "<table border=\"1\" class=\"dataframe\">\n",
       "  <thead>\n",
       "    <tr style=\"text-align: right;\">\n",
       "      <th></th>\n",
       "      <th>comment</th>\n",
       "      <th>sentiment</th>\n",
       "      <th>comment_ids</th>\n",
       "    </tr>\n",
       "  </thead>\n",
       "  <tbody>\n",
       "    <tr>\n",
       "      <th>0</th>\n",
       "      <td>[movi, get, respect, sure, lot, memor, quot, l...</td>\n",
       "      <td>1</td>\n",
       "      <td>[1, 8, 615, 140, 67, 751, 1564, 716, 1145, 354...</td>\n",
       "    </tr>\n",
       "    <tr>\n",
       "      <th>1</th>\n",
       "      <td>[bizarr, horror, movi, fill, famou, face, stol...</td>\n",
       "      <td>1</td>\n",
       "      <td>[966, 109, 1, 624, 701, 228, 2183, 6760, 1478,...</td>\n",
       "    </tr>\n",
       "    <tr>\n",
       "      <th>2</th>\n",
       "      <td>[solid, unremark, film, matthau, einstein, won...</td>\n",
       "      <td>1</td>\n",
       "      <td>[998, 7012, 2, 2525, 4637, 102, 379, 61, 33, 1...</td>\n",
       "    </tr>\n",
       "    <tr>\n",
       "      <th>3</th>\n",
       "      <td>[strang, feel, sit, alon, theater, occupi, par...</td>\n",
       "      <td>1</td>\n",
       "      <td>[473, 60, 424, 502, 503, 3788, 597, 13585, 137...</td>\n",
       "    </tr>\n",
       "    <tr>\n",
       "      <th>4</th>\n",
       "      <td>[probabl, alreadi, know, addit, episod, never,...</td>\n",
       "      <td>1</td>\n",
       "      <td>[156, 385, 35, 1006, 176, 48, 673, 229, 116, 1...</td>\n",
       "    </tr>\n",
       "    <tr>\n",
       "      <th>5</th>\n",
       "      <td>[saw, movi, two, grown, children, although, cl...</td>\n",
       "      <td>1</td>\n",
       "      <td>[131, 1, 40, 1976, 357, 185, 922, 6135, 98, 16...</td>\n",
       "    </tr>\n",
       "    <tr>\n",
       "      <th>6</th>\n",
       "      <td>[use, imdb, given, hefti, vote, favourit, film...</td>\n",
       "      <td>1</td>\n",
       "      <td>[62, 806, 285, 10303, 1281, 1282, 2, 64, 72, 2...</td>\n",
       "    </tr>\n",
       "    <tr>\n",
       "      <th>7</th>\n",
       "      <td>[good, film, power, messag, love, redempt, lov...</td>\n",
       "      <td>1</td>\n",
       "      <td>[6, 2, 275, 556, 29, 2540, 29, 1431, 323, 1030...</td>\n",
       "    </tr>\n",
       "    <tr>\n",
       "      <th>8</th>\n",
       "      <td>[made, quartet, trio, continu, qualiti, earlie...</td>\n",
       "      <td>1</td>\n",
       "      <td>[34, 8684, 3138, 454, 367, 799, 2, 193, 259, 1...</td>\n",
       "    </tr>\n",
       "    <tr>\n",
       "      <th>9</th>\n",
       "      <td>[matur, man, admit, shed, tear, film, matur, r...</td>\n",
       "      <td>1</td>\n",
       "      <td>[1800, 56, 725, 2480, 1073, 2, 1800, 952, 1800...</td>\n",
       "    </tr>\n",
       "  </tbody>\n",
       "</table>\n",
       "</div>"
      ],
      "text/plain": [
       "                                             comment  sentiment  \\\n",
       "0  [movi, get, respect, sure, lot, memor, quot, l...          1   \n",
       "1  [bizarr, horror, movi, fill, famou, face, stol...          1   \n",
       "2  [solid, unremark, film, matthau, einstein, won...          1   \n",
       "3  [strang, feel, sit, alon, theater, occupi, par...          1   \n",
       "4  [probabl, alreadi, know, addit, episod, never,...          1   \n",
       "5  [saw, movi, two, grown, children, although, cl...          1   \n",
       "6  [use, imdb, given, hefti, vote, favourit, film...          1   \n",
       "7  [good, film, power, messag, love, redempt, lov...          1   \n",
       "8  [made, quartet, trio, continu, qualiti, earlie...          1   \n",
       "9  [matur, man, admit, shed, tear, film, matur, r...          1   \n",
       "\n",
       "                                         comment_ids  \n",
       "0  [1, 8, 615, 140, 67, 751, 1564, 716, 1145, 354...  \n",
       "1  [966, 109, 1, 624, 701, 228, 2183, 6760, 1478,...  \n",
       "2  [998, 7012, 2, 2525, 4637, 102, 379, 61, 33, 1...  \n",
       "3  [473, 60, 424, 502, 503, 3788, 597, 13585, 137...  \n",
       "4  [156, 385, 35, 1006, 176, 48, 673, 229, 116, 1...  \n",
       "5  [131, 1, 40, 1976, 357, 185, 922, 6135, 98, 16...  \n",
       "6  [62, 806, 285, 10303, 1281, 1282, 2, 64, 72, 2...  \n",
       "7  [6, 2, 275, 556, 29, 2540, 29, 1431, 323, 1030...  \n",
       "8  [34, 8684, 3138, 454, 367, 799, 2, 193, 259, 1...  \n",
       "9  [1800, 56, 725, 2480, 1073, 2, 1800, 952, 1800...  "
      ]
     },
     "execution_count": 130,
     "metadata": {},
     "output_type": "execute_result"
    }
   ],
   "source": [
    "df.head(n=10)"
   ]
  },
  {
   "cell_type": "markdown",
   "metadata": {},
   "source": [
    "This is the part where we will create and train our Fastext (or another) embedding, or just use already trained one (and comapre results then). \n",
    "Since this is only the first iteration on our project, we are ending here and letting our Neural network create and train the embedding - even if it does not capture the word relations. \n",
    "We can then compare, how using advanced embeddings helps us to achieve better results. "
   ]
  },
  {
   "cell_type": "code",
   "execution_count": 57,
   "metadata": {},
   "outputs": [],
   "source": [
    "# embedding training will come here..."
   ]
  },
  {
   "cell_type": "code",
   "execution_count": null,
   "metadata": {},
   "outputs": [],
   "source": []
  },
  {
   "cell_type": "markdown",
   "metadata": {},
   "source": [
    "We also still need to make sure that our documents have are the same length. Let's do a quick analysis of lengths first:"
   ]
  },
  {
   "cell_type": "code",
   "execution_count": 16,
   "metadata": {},
   "outputs": [],
   "source": [
    "# compute comment lengths\n",
    "df['words_n'] = df.comment_ids.apply(len)"
   ]
  },
  {
   "cell_type": "code",
   "execution_count": 17,
   "metadata": {},
   "outputs": [
    {
     "data": {
      "text/plain": [
       "count    25000.000000\n",
       "mean       112.184480\n",
       "std         84.741327\n",
       "min          4.000000\n",
       "25%         60.000000\n",
       "50%         83.000000\n",
       "75%        137.000000\n",
       "max       1320.000000\n",
       "Name: words_n, dtype: float64"
      ]
     },
     "execution_count": 17,
     "metadata": {},
     "output_type": "execute_result"
    }
   ],
   "source": [
    "df.words_n.describe()"
   ]
  },
  {
   "cell_type": "code",
   "execution_count": 133,
   "metadata": {},
   "outputs": [
    {
     "data": {
      "text/plain": [
       "291.0"
      ]
     },
     "execution_count": 133,
     "metadata": {},
     "output_type": "execute_result"
    }
   ],
   "source": [
    "df.words_n.quantile(0.95)"
   ]
  },
  {
   "cell_type": "code",
   "execution_count": 134,
   "metadata": {},
   "outputs": [
    {
     "data": {
      "text/plain": [
       "223.0"
      ]
     },
     "execution_count": 134,
     "metadata": {},
     "output_type": "execute_result"
    }
   ],
   "source": [
    "df.words_n.quantile(0.90)"
   ]
  },
  {
   "cell_type": "code",
   "execution_count": 18,
   "metadata": {},
   "outputs": [
    {
     "data": {
      "text/plain": [
       "183.0"
      ]
     },
     "execution_count": 18,
     "metadata": {},
     "output_type": "execute_result"
    }
   ],
   "source": [
    "df.words_n.quantile(0.85)"
   ]
  },
  {
   "cell_type": "markdown",
   "metadata": {},
   "source": [
    "Only a smaller part of our data set (slightly more than 10\\%) contains more than 200 words. \n",
    "Since we think that 100 words could be enough to detect sentiment, we will set that as maximum length of our comment and cut the words in comments after. However, this is a parameter to play with later. "
   ]
  },
  {
   "cell_type": "code",
   "execution_count": 19,
   "metadata": {},
   "outputs": [],
   "source": [
    "# set 100 as maximum comment length\n",
    "df['x'] = df.comment_ids.apply(lambda x: x[:100])\n",
    "df_test['x'] = df_test.comment_ids.apply(lambda x: x[:100])"
   ]
  },
  {
   "cell_type": "code",
   "execution_count": 20,
   "metadata": {},
   "outputs": [],
   "source": [
    "# pad shorter comments with 0\n",
    "df['x'] = df.x.apply(lambda x: np.pad(x, (0, 100 - len(x)), mode='constant'))\n",
    "df_test['x'] = df_test.x.apply(lambda x: np.pad(x, (0, 100 - len(x)), mode='constant'))"
   ]
  },
  {
   "cell_type": "markdown",
   "metadata": {},
   "source": [
    "And we are ready to go for now."
   ]
  },
  {
   "cell_type": "code",
   "execution_count": 21,
   "metadata": {},
   "outputs": [
    {
     "data": {
      "text/plain": [
       "15000"
      ]
     },
     "execution_count": 21,
     "metadata": {},
     "output_type": "execute_result"
    }
   ],
   "source": [
    "# length of vocabulary for further processing\n",
    "len(vocab)"
   ]
  },
  {
   "cell_type": "code",
   "execution_count": null,
   "metadata": {},
   "outputs": [],
   "source": []
  },
  {
   "cell_type": "code",
   "execution_count": 22,
   "metadata": {},
   "outputs": [],
   "source": [
    "# persist - to pickle now\n",
    "df.to_pickle('../data/train/comments_embed.pkl')\n",
    "df_test.to_pickle('../data/test/comments_embed.pkl')"
   ]
  },
  {
   "cell_type": "code",
   "execution_count": 23,
   "metadata": {},
   "outputs": [],
   "source": [
    "del df\n",
    "del df_test"
   ]
  },
  {
   "cell_type": "code",
   "execution_count": null,
   "metadata": {},
   "outputs": [],
   "source": []
  }
 ],
 "metadata": {
  "kernelspec": {
   "display_name": "Python 3",
   "language": "python",
   "name": "python3"
  },
  "language_info": {
   "codemirror_mode": {
    "name": "ipython",
    "version": 3
   },
   "file_extension": ".py",
   "mimetype": "text/x-python",
   "name": "python",
   "nbconvert_exporter": "python",
   "pygments_lexer": "ipython3",
   "version": "3.6.8"
  }
 },
 "nbformat": 4,
 "nbformat_minor": 2
}
